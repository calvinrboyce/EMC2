{
 "cells": [
  {
   "cell_type": "code",
   "execution_count": 33,
   "metadata": {},
   "outputs": [],
   "source": [
    "import numpy as np\n",
    "import random\n",
    "import sympy as sp\n",
    "import math\n",
    "\n",
    "\n",
    "import scipy.optimize as opt\n",
    "\n",
    "def newton(fp, fpp, x0, tol, maxiter):\n",
    "    converged=False\n",
    "    iterations=0\n",
    "    x1=0\n",
    "    for i in range(maxiter):\n",
    "        x1=x0-(fp(x0)/fpp(x0))\n",
    "        if abs(x1-x0)<tol:\n",
    "            converged=True\n",
    "            iterations=i+1\n",
    "            break\n",
    "        x0=x1\n",
    "        iterations=i+1\n",
    "    \n",
    "    return x1,converged,iterations\n",
    "\n",
    "def descent(f, df, x0, tol = 1e-5, maxiter = 100):\n",
    "    converged=False\n",
    "    iterations=0\n",
    "    x1=0\n",
    "    for i in range(maxiter):\n",
    "        f0=lambda a:f(x0-a*df(x0))\n",
    "        a=opt.minimize_scalar(f0).x\n",
    "        x1=x0-a*df(x0)\n",
    "        if max(abs(df(x1)))<tol:\n",
    "            converged=True\n",
    "            iterations=i+1\n",
    "            break\n",
    "        x0=x1\n",
    "        iterations=i+1\n",
    "    \n",
    "    return x1,converged,iterations\n"
   ]
  },
  {
   "cell_type": "code",
   "execution_count": 28,
   "metadata": {},
   "outputs": [
    {
     "data": {
      "text/plain": [
       "(-1.4473142236328096, True, 49)"
      ]
     },
     "execution_count": 28,
     "metadata": {},
     "output_type": "execute_result"
    }
   ],
   "source": [
    "#Problem 2:\n",
    "#Call your newton function where f = x**2 + sin(5*x), x0 = 0, tol = 1e-10, maxiter = 500\n",
    "fp = lambda x:2*x+5*np.cos(5*x)\n",
    "fpp = lambda x:2-25*np.sin(5*x)\n",
    "x0=0\n",
    "tol=1e-10\n",
    "maxiter=500\n",
    "newton(fp,fpp,x0,tol,maxiter)"
   ]
  },
  {
   "cell_type": "code",
   "execution_count": 31,
   "metadata": {},
   "outputs": [
    {
     "name": "stdout",
     "output_type": "stream",
     "text": [
      "3.1597356969788455e-27\n"
     ]
    },
    {
     "data": {
      "text/plain": [
       "(array([9.24407773e-10, 9.24407773e-10, 9.24407773e-10]), True, 1)"
      ]
     },
     "execution_count": 31,
     "metadata": {},
     "output_type": "execute_result"
    }
   ],
   "source": [
    "#Problem 4:\n",
    "#Call your descent function on f = x**4 + y**4 + z**4, x0 = [1,1,1], tol = 1e-5, maxiter = 100\n",
    "#Then call it on the Rosenbrock function. The following cell has everything set up for that,\n",
    "#which should help with the first part.\n",
    "f=lambda x:x[0]**4+x[1]**4+x[2]**4\n",
    "df= lambda x:np.array([4*x[0]**3,4*x[1]**3,4*x[2]**3])\n",
    "x0=np.array([1,1,1])\n",
    "descent(f,df,x0)"
   ]
  },
  {
   "cell_type": "code",
   "execution_count": 34,
   "metadata": {},
   "outputs": [
    {
     "name": "stdout",
     "output_type": "stream",
     "text": [
      "(array([0.99999002, 0.99997999]), True, 8025)\n"
     ]
    }
   ],
   "source": [
    "rosen = lambda x : (1 - x[0])**2 + 100 * (x[1] - x[0]**2)**2\n",
    "drosen = lambda x : np.array([-2*(1 - x[0]) + -200*2*x[0]*(x[1] - x[0]**2), 200*(x[1] - x[0]**2)])\n",
    "x0 = np.array([0,0])\n",
    "print(descent(rosen, drosen, x0, tol = 1e-5, maxiter = 10000))"
   ]
  }
 ],
 "metadata": {
  "kernelspec": {
   "display_name": "Python 3",
   "language": "python",
   "name": "python3"
  },
  "language_info": {
   "codemirror_mode": {
    "name": "ipython",
    "version": 3
   },
   "file_extension": ".py",
   "mimetype": "text/x-python",
   "name": "python",
   "nbconvert_exporter": "python",
   "pygments_lexer": "ipython3",
   "version": "3.8.5"
  }
 },
 "nbformat": 4,
 "nbformat_minor": 2
}
