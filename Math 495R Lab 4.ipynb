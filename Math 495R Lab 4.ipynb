{
  "nbformat": 4,
  "nbformat_minor": 0,
  "metadata": {
    "colab": {
      "name": "Math 495R Lab 4.ipynb",
      "provenance": []
    },
    "kernelspec": {
      "name": "python3",
      "display_name": "Python 3"
    },
    "language_info": {
      "name": "python"
    }
  },
  "cells": [
    {
      "cell_type": "markdown",
      "source": [
        "Problem 1"
      ],
      "metadata": {
        "id": "EViSvnYG4VoO"
      }
    },
    {
      "cell_type": "code",
      "execution_count": 43,
      "metadata": {
        "colab": {
          "base_uri": "https://localhost:8080/"
        },
        "id": "LC5P6uxU1nIm",
        "outputId": "8acd8378-4395-4733-8e36-ca671b21226d"
      },
      "outputs": [
        {
          "output_type": "stream",
          "name": "stdout",
          "text": [
            "Floating point precision exceeded.\n",
            "Stopped after 55 iterations.\n",
            "Max a[n] = 2.1544346900318834\n",
            "Min b[n] = 2.154434690031884\n"
          ]
        }
      ],
      "source": [
        "def cube_root(K):\n",
        "    # a and b are sequences of rational numbers\n",
        "    # Initial conditions. Use floats to ensure floating point division\n",
        "    a = [1.0]\n",
        "    b = [float(K)]\n",
        "    # loop a maximum of 1000 times. In practice, <100 iterations are\n",
        "    #required to exceed the precision of our basic floating point variable\n",
        "    for n in range(1,1000):\n",
        "        x = (a[n-1] + b[n-1]) / 2.0\n",
        "\n",
        "        if x**3 < K: #x is in A\n",
        "            # add x to a. b[n] is unchanged from b[n-1]\n",
        "            a.append( x )\n",
        "            b.append( b[n-1] )\n",
        "        else: # x is an upper bound for A\n",
        "            # add x to b. a[n] is unchanged from a[n-1]\n",
        "            a.append( a[n-1] )\n",
        "            b.append( x )\n",
        "\n",
        "        #check that something has changed this iteration. If it\n",
        "        #hasn’t, we’ve exceeded the precision of our floating\n",
        "        #point variables\n",
        "        if a[n] == a[n-1] and b[n] == b[n-1]:\n",
        "            print(\"Floating point precision exceeded.\")\n",
        "            break\n",
        "\n",
        "        # may never happen, but it would be a stopping point if it did\n",
        "        if a[n] == b[n]:\n",
        "            print(\"a[n] = b[n]. Limit reached.\")\n",
        "            break\n",
        "\n",
        "    # approximation complete, output results\n",
        "    print(\"Stopped after \"+str(n)+\" iterations.\")\n",
        "    print(\"Max a[n] = \"+ str(a[n]))\n",
        "    print(\"Min b[n] = \"+ str(b[n]))\n",
        "\n",
        "cube_root(10)"
      ]
    },
    {
      "cell_type": "markdown",
      "source": [
        "Problem 2"
      ],
      "metadata": {
        "id": "HN0DqRaK5bai"
      }
    },
    {
      "cell_type": "code",
      "source": [
        "def binary_search(l,n):\n",
        "    #accepts an ordered list and an integer n and returns the index of n\n",
        "    def binary_search_helper(l,n,min_index,max_index):\n",
        "        #is it in the first half or the second half?\n",
        "        curr_index=(min_index+max_index)//2\n",
        "        if l[curr_index]==n:\n",
        "            return curr_index\n",
        "        elif min_index==max_index:\n",
        "            return -1\n",
        "        elif l[curr_index]<n:\n",
        "            return binary_search_helper(l,n,curr_index+1,max_index)\n",
        "        elif l[curr_index]>n:\n",
        "            return binary_search_helper(l,n,min_index,curr_index-1)\n",
        "\n",
        "    return(binary_search_helper(l,n,0,len(l)-1))\n",
        "\n",
        "\n",
        "binary_search([-115,-12,56,83,84,85,93,112],93)"
      ],
      "metadata": {
        "colab": {
          "base_uri": "https://localhost:8080/"
        },
        "id": "ZduxTOIK5c5U",
        "outputId": "f13a281d-d3b0-4295-a2b5-f7645356deef"
      },
      "execution_count": 84,
      "outputs": [
        {
          "output_type": "execute_result",
          "data": {
            "text/plain": [
              "6"
            ]
          },
          "metadata": {},
          "execution_count": 84
        }
      ]
    },
    {
      "cell_type": "markdown",
      "source": [
        "Problem 3"
      ],
      "metadata": {
        "id": "H2sj-pnNBPUZ"
      }
    },
    {
      "cell_type": "code",
      "source": [
        "def linear_search(l,n):\n",
        "    for x in range(len(l)):\n",
        "        if l[x]==n:\n",
        "            return x\n",
        "    return -1\n",
        "linear_search([-115,-12,56,83,84,85,93,112],0)"
      ],
      "metadata": {
        "colab": {
          "base_uri": "https://localhost:8080/"
        },
        "id": "BZBXHpOOB8NF",
        "outputId": "5fca1932-b48f-4bb8-dfd4-be2294378d7b"
      },
      "execution_count": 49,
      "outputs": [
        {
          "output_type": "execute_result",
          "data": {
            "text/plain": [
              "-1"
            ]
          },
          "metadata": {},
          "execution_count": 49
        }
      ]
    },
    {
      "cell_type": "code",
      "source": [
        "from sympy import primerange\n",
        "a=list(primerange(1,10000000))"
      ],
      "metadata": {
        "id": "UtOkIG02CbbF"
      },
      "execution_count": 63,
      "outputs": []
    },
    {
      "cell_type": "code",
      "source": [
        "from time import time\n",
        "\n",
        "def timed_search(n):\n",
        "    print('n='+str(n))\n",
        "    t=time()\n",
        "    print(linear_search(a,n))\n",
        "    print('linear search: ', time()-t)\n",
        "    t=time()\n",
        "    print(binary_search(a,n))\n",
        "    print('binary search: ', time()-t)\n",
        "    print()\n",
        "\n",
        "timed_search(2)\n",
        "timed_search(9999991)\n",
        "timed_search(524287)\n",
        "timed_search(1632913)\n",
        "timed_search(1234567)\n",
        "timed_search(10000000)\n",
        "timed_search(1)\n",
        "timed_search(512)"
      ],
      "metadata": {
        "colab": {
          "base_uri": "https://localhost:8080/"
        },
        "id": "RsbQoKevCvqb",
        "outputId": "5a3d3f69-d3c2-42e0-9c2f-84970a0e1f09"
      },
      "execution_count": 78,
      "outputs": [
        {
          "output_type": "stream",
          "name": "stdout",
          "text": [
            "n=2\n",
            "0\n",
            "linear search:  0.0003349781036376953\n",
            "0\n",
            "binary search:  0.0003502368927001953\n",
            "\n",
            "n=9999991\n",
            "664578\n",
            "linear search:  0.055811166763305664\n",
            "664578\n",
            "binary search:  0.00030994415283203125\n",
            "\n",
            "n=524287\n",
            "43389\n",
            "linear search:  0.0032095909118652344\n",
            "43389\n",
            "binary search:  0.00021266937255859375\n",
            "\n",
            "n=1632913\n",
            "123456\n",
            "linear search:  0.00892186164855957\n",
            "123456\n",
            "binary search:  7.367134094238281e-05\n",
            "\n",
            "n=1234567\n",
            "-1\n",
            "linear search:  0.04997658729553223\n",
            "-1\n",
            "binary search:  0.0007979869842529297\n",
            "\n",
            "n=10000000\n",
            "-1\n",
            "linear search:  0.05042529106140137\n",
            "-1\n",
            "binary search:  8.487701416015625e-05\n",
            "\n",
            "n=1\n",
            "-1\n",
            "linear search:  0.0588686466217041\n",
            "-1\n",
            "binary search:  0.0013210773468017578\n",
            "\n",
            "n=512\n",
            "-1\n",
            "linear search:  0.05038642883300781\n",
            "-1\n",
            "binary search:  8.821487426757812e-05\n",
            "\n"
          ]
        }
      ]
    },
    {
      "cell_type": "markdown",
      "source": [
        "i. binary search usually outperforms linear search"
      ],
      "metadata": {
        "id": "_6shyDY3EVt4"
      }
    },
    {
      "cell_type": "markdown",
      "source": [
        "ii. binary search is usually faster, I suspect it's better as a grows"
      ],
      "metadata": {
        "id": "lwifa0pUEeHE"
      }
    },
    {
      "cell_type": "markdown",
      "source": [
        "iii. binary search is usally faster, I suspect it's better as a grows"
      ],
      "metadata": {
        "id": "NhiVugx5EfDz"
      }
    }
  ]
}