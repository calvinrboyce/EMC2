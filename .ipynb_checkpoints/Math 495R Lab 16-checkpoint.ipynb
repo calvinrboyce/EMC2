{
 "cells": [
  {
   "cell_type": "code",
   "execution_count": 4,
   "metadata": {},
   "outputs": [],
   "source": [
    "import numpy as np\n",
    "from scipy import linalg as la\n",
    "from matplotlib import pyplot as plt\n",
    "import math"
   ]
  },
  {
   "cell_type": "markdown",
   "metadata": {},
   "source": [
    "Problem 1"
   ]
  },
  {
   "cell_type": "code",
   "execution_count": 3,
   "metadata": {},
   "outputs": [
    {
     "data": {
      "image/png": "[encoded data removed]",
      "text/plain": [
       "<Figure size 432x288 with 1 Axes>"
      ]
     },
     "metadata": {
      "needs_background": "light"
     },
     "output_type": "display_data"
    },
    {
     "name": "stdout",
     "output_type": "stream",
     "text": [
      "Highest dimension at 5 or 6\n"
     ]
    }
   ],
   "source": [
    "def openBallVolume(n, N = 10**4):\n",
    "    points=np.random.uniform(-1,1,(n,N))\n",
    "    lengths=la.norm(points, axis=0)\n",
    "    num_within=np.count_nonzero(lengths<1)\n",
    "    return 2**n*(num_within/N)\n",
    "\n",
    "x=[i for i in range(1,21)]\n",
    "y=[openBallVolume(i,1000000) for i in x]\n",
    "plt.plot(x,y)\n",
    "plt.show()\n",
    "print('Highest dimension at 5 or 6')"
   ]
  },
  {
   "cell_type": "markdown",
   "metadata": {},
   "source": [
    "Problem 2"
   ]
  },
  {
   "cell_type": "code",
   "execution_count": 6,
   "metadata": {},
   "outputs": [
    {
     "data": {
      "image/png": "[encoded data removed]",
      "text/plain": [
       "<Figure size 432x288 with 1 Axes>"
      ]
     },
     "metadata": {
      "needs_background": "light"
     },
     "output_type": "display_data"
    }
   ],
   "source": [
    "x=[i for i in range(1,31)]\n",
    "y=[2**(-1/i) for i in x]\n",
    "\n",
    "plt.plot(x,y)\n",
    "plt.show()"
   ]
  },
  {
   "cell_type": "markdown",
   "metadata": {},
   "source": [
    "Problem 3"
   ]
  },
  {
   "cell_type": "code",
   "execution_count": 41,
   "metadata": {},
   "outputs": [
    {
     "name": "stdout",
     "output_type": "stream",
     "text": [
      "p1: 490\n",
      "p2: 487\n",
      "p3: 488\n",
      "p4: 488\n",
      "p5: 487\n",
      "In all: 442\n"
     ]
    }
   ],
   "source": [
    "def generate(n,d):\n",
    "    list_of_points=[]\n",
    "    for i in range(n):\n",
    "        point=[]\n",
    "        for j in range(d):\n",
    "            point.append(np.random.uniform(-1,1))\n",
    "        norm = np.sqrt(np.sum([s**2 for s in point]))\n",
    "        norm_point=point/norm\n",
    "        list_of_points.append(tuple(norm_point))\n",
    "    return list_of_points\n",
    "\n",
    "points=generate(500,50)\n",
    "new_points=generate(5,50)\n",
    "\n",
    "def in_band(p,x):\n",
    "    if np.dot(p,x)<2/np.sqrt(50):\n",
    "        return True\n",
    "    else:\n",
    "        return False\n",
    "\n",
    "for p in range(len(new_points)):\n",
    "    count=0\n",
    "    for x in points:\n",
    "        if in_band(new_points[p],x):\n",
    "            count+=1\n",
    "    print(\"p\"+str(p+1)+\": \"+str(count))\n",
    "    \n",
    "count=0\n",
    "for x in points:\n",
    "    in_all=True\n",
    "    for p in new_points:\n",
    "        if not in_band(p,x):\n",
    "            in_all=False\n",
    "    if in_all:\n",
    "        count+=1\n",
    "print(\"In all: \"+str(count))"
   ]
  },
  {
   "cell_type": "markdown",
   "metadata": {},
   "source": [
    "Problem 4"
   ]
  },
  {
   "cell_type": "code",
   "execution_count": 66,
   "metadata": {},
   "outputs": [
    {
     "name": "stdout",
     "output_type": "stream",
     "text": [
      "58\n"
     ]
    },
    {
     "data": {
      "image/png": "[encoded data removed]",
      "text/plain": [
       "<Figure size 432x288 with 1 Axes>"
      ]
     },
     "metadata": {
      "needs_background": "light"
     },
     "output_type": "display_data"
    }
   ],
   "source": [
    "def generate_gaussian(n,d):\n",
    "    list_of_points=[]\n",
    "    for i in range(n):\n",
    "        point=[]\n",
    "        for j in range(d):\n",
    "            point.append(np.random.normal(0,1))\n",
    "        list_of_points.append(tuple(point))\n",
    "    return list_of_points\n",
    "\n",
    "points=generate_gaussian(200,50)\n",
    "point=generate_gaussian(1,50)\n",
    "\n",
    "def orthogonality(p,x):\n",
    "    return np.arccos(np.dot(p,x)/(np.linalg.norm(p)*np.linalg.norm(x)))*(180/np.pi)\n",
    "\n",
    "count=0\n",
    "for x in points:\n",
    "    if abs(90-orthogonality(point,x))<=3:\n",
    "        count+=1\n",
    "\n",
    "print(count)\n",
    "plt.hist(np.array([orthogonality(point,x) for x in points]),[60,80,87,93,100,120]);"
   ]
  }
 ],
 "metadata": {
  "kernelspec": {
   "display_name": "Python 3",
   "language": "python",
   "name": "python3"
  },
  "language_info": {
   "codemirror_mode": {
    "name": "ipython",
    "version": 3
   },
   "file_extension": ".py",
   "mimetype": "text/x-python",
   "name": "python",
   "nbconvert_exporter": "python",
   "pygments_lexer": "ipython3",
   "version": "3.8.5"
  }
 },
 "nbformat": 4,
 "nbformat_minor": 4
}
