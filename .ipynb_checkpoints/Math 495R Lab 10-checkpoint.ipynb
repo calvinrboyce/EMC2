{
 "cells": [
  {
   "cell_type": "markdown",
   "metadata": {},
   "source": [
    "Problem 1"
   ]
  },
  {
   "cell_type": "code",
   "execution_count": 29,
   "metadata": {},
   "outputs": [
    {
     "name": "stdout",
     "output_type": "stream",
     "text": [
      "123 b5 [4, 4, 3]\n",
      "495 b5 [3, 4, 4, 0]\n",
      "31415926 b5 [3, 1, 0, 2, 0, 3, 0, 2, 2, 0, 1]\n",
      "123 b7 [2, 3, 4]\n",
      "495 b7 [1, 3, 0, 5]\n",
      "31415926 b7 [5, 3, 1, 0, 1, 3, 4, 2, 3]\n"
     ]
    },
    {
     "ename": "Exception",
     "evalue": "please enter a nonnegative integer",
     "output_type": "error",
     "traceback": [
      "\u001b[0;31m---------------------------------------------------------------------------\u001b[0m",
      "\u001b[0;31mException\u001b[0m                                 Traceback (most recent call last)",
      "\u001b[0;32m/var/folders/1b/fsqz1c154j369mqfj16_n4540000gn/T/ipykernel_8273/2504989213.py\u001b[0m in \u001b[0;36m<module>\u001b[0;34m\u001b[0m\n\u001b[1;32m     34\u001b[0m \u001b[0mprint\u001b[0m\u001b[0;34m(\u001b[0m\u001b[0;34m'495 b7'\u001b[0m\u001b[0;34m,\u001b[0m\u001b[0mto_base_int\u001b[0m\u001b[0;34m(\u001b[0m\u001b[0;36m7\u001b[0m\u001b[0;34m,\u001b[0m\u001b[0;36m495\u001b[0m\u001b[0;34m)\u001b[0m\u001b[0;34m)\u001b[0m\u001b[0;34m\u001b[0m\u001b[0;34m\u001b[0m\u001b[0m\n\u001b[1;32m     35\u001b[0m \u001b[0mprint\u001b[0m\u001b[0;34m(\u001b[0m\u001b[0;34m'31415926 b7'\u001b[0m\u001b[0;34m,\u001b[0m\u001b[0mto_base_int\u001b[0m\u001b[0;34m(\u001b[0m\u001b[0;36m7\u001b[0m\u001b[0;34m,\u001b[0m\u001b[0;36m31415926\u001b[0m\u001b[0;34m)\u001b[0m\u001b[0;34m)\u001b[0m\u001b[0;34m\u001b[0m\u001b[0;34m\u001b[0m\u001b[0m\n\u001b[0;32m---> 36\u001b[0;31m \u001b[0mprint\u001b[0m\u001b[0;34m(\u001b[0m\u001b[0mto_base_int\u001b[0m\u001b[0;34m(\u001b[0m\u001b[0;36m8\u001b[0m\u001b[0;34m,\u001b[0m\u001b[0;36m.5\u001b[0m\u001b[0;34m)\u001b[0m\u001b[0;34m)\u001b[0m\u001b[0;34m\u001b[0m\u001b[0;34m\u001b[0m\u001b[0m\n\u001b[0m\u001b[1;32m     37\u001b[0m \u001b[0mprint\u001b[0m\u001b[0;34m(\u001b[0m\u001b[0mto_base_int\u001b[0m\u001b[0;34m(\u001b[0m\u001b[0;36m8\u001b[0m\u001b[0;34m,\u001b[0m\u001b[0;34m-\u001b[0m\u001b[0;36m2\u001b[0m\u001b[0;34m)\u001b[0m\u001b[0;34m)\u001b[0m\u001b[0;34m\u001b[0m\u001b[0;34m\u001b[0m\u001b[0m\n",
      "\u001b[0;32m/var/folders/1b/fsqz1c154j369mqfj16_n4540000gn/T/ipykernel_8273/2504989213.py\u001b[0m in \u001b[0;36mto_base_int\u001b[0;34m(b, n)\u001b[0m\n\u001b[1;32m      3\u001b[0m \u001b[0;32mdef\u001b[0m \u001b[0mto_base_int\u001b[0m\u001b[0;34m(\u001b[0m\u001b[0mb\u001b[0m\u001b[0;34m,\u001b[0m\u001b[0mn\u001b[0m\u001b[0;34m)\u001b[0m\u001b[0;34m:\u001b[0m\u001b[0;34m\u001b[0m\u001b[0;34m\u001b[0m\u001b[0m\n\u001b[1;32m      4\u001b[0m     \u001b[0;32mif\u001b[0m \u001b[0mn\u001b[0m\u001b[0;34m!=\u001b[0m\u001b[0mint\u001b[0m\u001b[0;34m(\u001b[0m\u001b[0mn\u001b[0m\u001b[0;34m)\u001b[0m \u001b[0;32mor\u001b[0m \u001b[0mn\u001b[0m\u001b[0;34m<\u001b[0m\u001b[0;36m0\u001b[0m\u001b[0;34m:\u001b[0m\u001b[0;34m\u001b[0m\u001b[0;34m\u001b[0m\u001b[0m\n\u001b[0;32m----> 5\u001b[0;31m         \u001b[0;32mraise\u001b[0m \u001b[0mException\u001b[0m\u001b[0;34m(\u001b[0m\u001b[0;34m'please enter a nonnegative integer'\u001b[0m\u001b[0;34m)\u001b[0m\u001b[0;34m\u001b[0m\u001b[0;34m\u001b[0m\u001b[0m\n\u001b[0m\u001b[1;32m      6\u001b[0m \u001b[0;34m\u001b[0m\u001b[0m\n\u001b[1;32m      7\u001b[0m     \u001b[0mdigits\u001b[0m\u001b[0;34m=\u001b[0m\u001b[0;34m[\u001b[0m\u001b[0;34m]\u001b[0m\u001b[0;34m\u001b[0m\u001b[0;34m\u001b[0m\u001b[0m\n",
      "\u001b[0;31mException\u001b[0m: please enter a nonnegative integer"
     ]
    }
   ],
   "source": [
    "#accepts a base b and a nonnegative integer n\n",
    "#and returns the digits in base b\n",
    "def to_base_int(b,n):\n",
    "    if n!=int(n) or n<0:\n",
    "        raise Exception('please enter a nonnegative integer')\n",
    "        \n",
    "    digits=[]\n",
    "    if n==0:\n",
    "        digits.append(0)\n",
    "    \n",
    "    #find the power\n",
    "    k=0\n",
    "    while n-b**k>=0:\n",
    "        k+=1\n",
    "    k-=1\n",
    "    \n",
    "    for i in range(k,-1,-1):\n",
    "        #find how many times to subtract\n",
    "        bn=0\n",
    "        while n-(b**i*bn)>=0:\n",
    "            bn+=1\n",
    "        bn-=1\n",
    "\n",
    "        #save the digit and subtract the number\n",
    "        digits.append(bn)\n",
    "        n-=b**i*bn\n",
    "    \n",
    "    return digits\n",
    "\n",
    "print('123 b5',to_base_int(5,123))\n",
    "print('495 b5',to_base_int(5,495))\n",
    "print('31415926 b5',to_base_int(5,31415926))\n",
    "print('123 b7',to_base_int(7,123))\n",
    "print('495 b7',to_base_int(7,495))\n",
    "print('31415926 b7',to_base_int(7,31415926))\n",
    "print(to_base_int(8,.5))\n",
    "print(to_base_int(8,-2))"
   ]
  },
  {
   "cell_type": "markdown",
   "metadata": {},
   "source": [
    "Problem 2"
   ]
  },
  {
   "cell_type": "code",
   "execution_count": 39,
   "metadata": {},
   "outputs": [
    {
     "name": "stdout",
     "output_type": "stream",
     "text": [
      "1/4 b3 [0, 2, 0, 2, 0, 2, 0, 2]\n",
      "8/13 b3 [1, 2, 1, 1, 2, 1, 1, 2]\n",
      "3/7 b4 [1, 2, 3, 1, 2, 3, 1, 2]\n",
      "19/21 b4 [3, 2, 1, 3, 2, 1, 3, 2]\n"
     ]
    },
    {
     "ename": "Exception",
     "evalue": "please enter a number between 0 and 1",
     "output_type": "error",
     "traceback": [
      "\u001b[0;31m---------------------------------------------------------------------------\u001b[0m",
      "\u001b[0;31mException\u001b[0m                                 Traceback (most recent call last)",
      "\u001b[0;32m/var/folders/1b/fsqz1c154j369mqfj16_n4540000gn/T/ipykernel_8273/105993860.py\u001b[0m in \u001b[0;36m<module>\u001b[0;34m\u001b[0m\n\u001b[1;32m     19\u001b[0m \u001b[0mprint\u001b[0m\u001b[0;34m(\u001b[0m\u001b[0;34m'3/7 b4'\u001b[0m\u001b[0;34m,\u001b[0m\u001b[0mto_base_b_frac\u001b[0m\u001b[0;34m(\u001b[0m\u001b[0;36m4\u001b[0m\u001b[0;34m,\u001b[0m\u001b[0;36m3\u001b[0m\u001b[0;34m/\u001b[0m\u001b[0;36m7\u001b[0m\u001b[0;34m)\u001b[0m\u001b[0;34m)\u001b[0m\u001b[0;34m\u001b[0m\u001b[0;34m\u001b[0m\u001b[0m\n\u001b[1;32m     20\u001b[0m \u001b[0mprint\u001b[0m\u001b[0;34m(\u001b[0m\u001b[0;34m'19/21 b4'\u001b[0m\u001b[0;34m,\u001b[0m\u001b[0mto_base_b_frac\u001b[0m\u001b[0;34m(\u001b[0m\u001b[0;36m4\u001b[0m\u001b[0;34m,\u001b[0m\u001b[0;36m19\u001b[0m\u001b[0;34m/\u001b[0m\u001b[0;36m21\u001b[0m\u001b[0;34m)\u001b[0m\u001b[0;34m)\u001b[0m\u001b[0;34m\u001b[0m\u001b[0;34m\u001b[0m\u001b[0m\n\u001b[0;32m---> 21\u001b[0;31m \u001b[0mprint\u001b[0m\u001b[0;34m(\u001b[0m\u001b[0;34m'1 b5'\u001b[0m\u001b[0;34m,\u001b[0m\u001b[0mto_base_b_frac\u001b[0m\u001b[0;34m(\u001b[0m\u001b[0;36m5\u001b[0m\u001b[0;34m,\u001b[0m\u001b[0;36m1\u001b[0m\u001b[0;34m)\u001b[0m\u001b[0;34m)\u001b[0m\u001b[0;34m\u001b[0m\u001b[0;34m\u001b[0m\u001b[0m\n\u001b[0m\u001b[1;32m     22\u001b[0m \u001b[0mprint\u001b[0m\u001b[0;34m(\u001b[0m\u001b[0;34m'5/4 b5'\u001b[0m\u001b[0;34m,\u001b[0m\u001b[0mto_base_b_frac\u001b[0m\u001b[0;34m(\u001b[0m\u001b[0;36m5\u001b[0m\u001b[0;34m,\u001b[0m\u001b[0;36m5\u001b[0m\u001b[0;34m/\u001b[0m\u001b[0;36m4\u001b[0m\u001b[0;34m)\u001b[0m\u001b[0;34m)\u001b[0m\u001b[0;34m\u001b[0m\u001b[0;34m\u001b[0m\u001b[0m\n\u001b[1;32m     23\u001b[0m \u001b[0mprint\u001b[0m\u001b[0;34m(\u001b[0m\u001b[0;34m'-1/2 b5'\u001b[0m\u001b[0;34m,\u001b[0m\u001b[0mto_base_b_frac\u001b[0m\u001b[0;34m(\u001b[0m\u001b[0;36m5\u001b[0m\u001b[0;34m,\u001b[0m\u001b[0;34m-\u001b[0m\u001b[0;36m1\u001b[0m\u001b[0;34m/\u001b[0m\u001b[0;36m2\u001b[0m\u001b[0;34m)\u001b[0m\u001b[0;34m)\u001b[0m\u001b[0;34m\u001b[0m\u001b[0;34m\u001b[0m\u001b[0m\n",
      "\u001b[0;32m/var/folders/1b/fsqz1c154j369mqfj16_n4540000gn/T/ipykernel_8273/105993860.py\u001b[0m in \u001b[0;36mto_base_b_frac\u001b[0;34m(b, x)\u001b[0m\n\u001b[1;32m      1\u001b[0m \u001b[0;32mdef\u001b[0m \u001b[0mto_base_b_frac\u001b[0m\u001b[0;34m(\u001b[0m\u001b[0mb\u001b[0m\u001b[0;34m,\u001b[0m\u001b[0mx\u001b[0m\u001b[0;34m)\u001b[0m\u001b[0;34m:\u001b[0m\u001b[0;34m\u001b[0m\u001b[0;34m\u001b[0m\u001b[0m\n\u001b[1;32m      2\u001b[0m     \u001b[0;32mif\u001b[0m \u001b[0mx\u001b[0m\u001b[0;34m<\u001b[0m\u001b[0;36m0\u001b[0m \u001b[0;32mor\u001b[0m \u001b[0mx\u001b[0m\u001b[0;34m>=\u001b[0m\u001b[0;36m1\u001b[0m\u001b[0;34m:\u001b[0m\u001b[0;34m\u001b[0m\u001b[0;34m\u001b[0m\u001b[0m\n\u001b[0;32m----> 3\u001b[0;31m         \u001b[0;32mraise\u001b[0m \u001b[0mException\u001b[0m\u001b[0;34m(\u001b[0m\u001b[0;34m'please enter a number between 0 and 1'\u001b[0m\u001b[0;34m)\u001b[0m\u001b[0;34m\u001b[0m\u001b[0;34m\u001b[0m\u001b[0m\n\u001b[0m\u001b[1;32m      4\u001b[0m \u001b[0;34m\u001b[0m\u001b[0m\n\u001b[1;32m      5\u001b[0m     \u001b[0mdigits\u001b[0m\u001b[0;34m=\u001b[0m\u001b[0;34m[\u001b[0m\u001b[0;34m]\u001b[0m\u001b[0;34m\u001b[0m\u001b[0;34m\u001b[0m\u001b[0m\n",
      "\u001b[0;31mException\u001b[0m: please enter a number between 0 and 1"
     ]
    }
   ],
   "source": [
    "def to_base_b_frac(b,x):\n",
    "    if x<0 or x>=1:\n",
    "        raise Exception('please enter a number between 0 and 1')\n",
    "    \n",
    "    digits=[]\n",
    "    for i in range(1,9):\n",
    "        yn=0\n",
    "        while yn<=b*x:\n",
    "            yn+=1\n",
    "        yn-=1\n",
    "\n",
    "        x=b*x-yn\n",
    "        digits.append(yn)\n",
    "    \n",
    "    return digits\n",
    "        \n",
    "print('1/4 b3',to_base_b_frac(3,1/4))\n",
    "print('8/13 b3',to_base_b_frac(3,8/13))\n",
    "print('3/7 b4',to_base_b_frac(4,3/7))\n",
    "print('19/21 b4',to_base_b_frac(4,19/21))\n",
    "print('1 b5',to_base_b_frac(5,1))\n",
    "print('5/4 b5',to_base_b_frac(5,5/4))\n",
    "print('-1/2 b5',to_base_b_frac(5,-1/2))"
   ]
  },
  {
   "cell_type": "markdown",
   "metadata": {},
   "source": [
    "Problem 3"
   ]
  },
  {
   "cell_type": "code",
   "execution_count": 42,
   "metadata": {},
   "outputs": [
    {
     "name": "stdout",
     "output_type": "stream",
     "text": [
      "1/2 b8\n",
      "Integer part: [0]\n",
      "Fractional part: [4, 0, 0, 0, 0, 0, 0, 0]\n",
      "123 b8\n",
      "Integer part: [1, 7, 3]\n",
      "Fractional part: [0, 0, 0, 0, 0, 0, 0, 0]\n",
      "22/7 b8\n",
      "Integer part: [3]\n",
      "Fractional part: [1, 1, 1, 1, 1, 1, 1, 1]\n",
      "0 b8\n",
      "Integer part: [0]\n",
      "Fractional part: [0, 0, 0, 0, 0, 0, 0, 0]\n",
      "1 b8\n",
      "Integer part: [1]\n",
      "Fractional part: [0, 0, 0, 0, 0, 0, 0, 0]\n",
      "90/1 b8\n",
      "Integer part: [1, 3, 2]\n",
      "Fractional part: [0, 0, 0, 0, 0, 0, 0, 0]\n",
      "495/290 b8\n",
      "Integer part: [1]\n",
      "Fractional part: [5, 5, 1, 7, 3, 4, 5, 4]\n"
     ]
    }
   ],
   "source": [
    "def to_base_b(b,alpha):\n",
    "    if alpha<0:\n",
    "        raise Exception('please enter a nonnegative number')\n",
    "    \n",
    "    integer,fraction=int(alpha),alpha-int(alpha)\n",
    "    \n",
    "    print('Integer part:',to_base_int(b,integer))\n",
    "    print('Fractional part:',to_base_b_frac(b,fraction))\n",
    "\n",
    "print('1/2 b8')\n",
    "to_base_b(8,1/2)\n",
    "print('123 b8')\n",
    "to_base_b(8,123)\n",
    "print('22/7 b8')\n",
    "to_base_b(8,22/7)\n",
    "print('0 b8')\n",
    "to_base_b(8,0)\n",
    "print('1 b8')\n",
    "to_base_b(8,1)\n",
    "print('90/1 b8')\n",
    "to_base_b(8,90/1)\n",
    "print('495/290 b8')\n",
    "to_base_b(8,495/290)"
   ]
  },
  {
   "cell_type": "code",
   "execution_count": 46,
   "metadata": {},
   "outputs": [
    {
     "data": {
      "text/plain": [
       "'1.55173454'"
      ]
     },
     "execution_count": 46,
     "metadata": {},
     "output_type": "execute_result"
    }
   ],
   "source": [
    "def to_base_b_string(b,alpha):\n",
    "    if alpha<0:\n",
    "        raise Exception('please enter a nonnegative number')\n",
    "    \n",
    "    integer,fraction=int(alpha),alpha-int(alpha)\n",
    "    \n",
    "    int_part=to_base_int(b,integer)\n",
    "    frac_part=to_base_b_frac(b,fraction)\n",
    "    \n",
    "    our_string=''\n",
    "    for i in int_part:\n",
    "        our_string+=str(i)\n",
    "    our_string+='.'\n",
    "    for i in frac_part:\n",
    "        our_string+=str(i)\n",
    "    return our_string\n",
    "\n",
    "to_base_b_string(8,495/290)"
   ]
  }
 ],
 "metadata": {
  "kernelspec": {
   "display_name": "Python 3 (ipykernel)",
   "language": "python",
   "name": "python3"
  },
  "language_info": {
   "codemirror_mode": {
    "name": "ipython",
    "version": 3
   },
   "file_extension": ".py",
   "mimetype": "text/x-python",
   "name": "python",
   "nbconvert_exporter": "python",
   "pygments_lexer": "ipython3",
   "version": "3.9.7"
  }
 },
 "nbformat": 4,
 "nbformat_minor": 4
}
