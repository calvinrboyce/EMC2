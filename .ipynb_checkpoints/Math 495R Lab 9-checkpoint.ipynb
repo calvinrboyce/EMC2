{
 "cells": [
  {
   "cell_type": "code",
   "execution_count": 47,
   "id": "46c94f46",
   "metadata": {},
   "outputs": [],
   "source": [
    "import sympy as sy\n",
    "import numpy as np\n",
    "import matplotlib.pyplot as plt"
   ]
  },
  {
   "cell_type": "markdown",
   "id": "ab4c55a8",
   "metadata": {},
   "source": [
    "Problem 1"
   ]
  },
  {
   "cell_type": "code",
   "execution_count": 37,
   "id": "41f92d45",
   "metadata": {},
   "outputs": [
    {
     "data": {
      "text/latex": [
       "$\\displaystyle 2/5 e^{x^{2} - y} \\cosh{\\left(x + y \\right)} + 3/7 \\log{\\left(x y + 1 \\right)}$"
      ],
      "text/plain": [
       "2/5*exp(x**2 - y)*cosh(x + y) + 3/7*log(x*y + 1)"
      ]
     },
     "execution_count": 37,
     "metadata": {},
     "output_type": "execute_result"
    }
   ],
   "source": [
    "def expr():\n",
    "    x,y=sy.symbols('x,y')\n",
    "    two_fifths=sy.symbols('2/5')\n",
    "    three_sevenths=sy.symbols('3/7')\n",
    "\n",
    "    return two_fifths*sy.exp(x**2-y)*sy.cosh(x+y)+three_sevenths*sy.log(x*y+1)\n",
    "\n",
    "expr()"
   ]
  },
  {
   "cell_type": "markdown",
   "id": "45aff781",
   "metadata": {},
   "source": [
    "Problem 2"
   ]
  },
  {
   "cell_type": "code",
   "execution_count": 53,
   "id": "c1e90970",
   "metadata": {},
   "outputs": [
    {
     "data": {
      "image/png": "[encoded data removed]",
      "text/plain": [
       "<Figure size 432x288 with 1 Axes>"
      ]
     },
     "metadata": {
      "needs_background": "light"
     },
     "output_type": "display_data"
    }
   ],
   "source": [
    "def maclaurin(N):\n",
    "    x,y=sy.symbols('x y')\n",
    "    expr=0\n",
    "    for i in range(N+1):\n",
    "        expr+=x**i/sy.factorial(i)\n",
    "    \n",
    "    f=sy.lambdify(y,expr.subs(x,-y**2))\n",
    "    x1=np.linspace(-2,2,100)\n",
    "    y1=f(x1)\n",
    "    y2=np.exp(-x1**2)\n",
    "    \n",
    "    plt.plot(x1,y1)\n",
    "    plt.plot(x1,y2)\n",
    "\n",
    "maclaurin(100)"
   ]
  },
  {
   "cell_type": "markdown",
   "id": "881541c1",
   "metadata": {},
   "source": [
    "Problem 3"
   ]
  },
  {
   "cell_type": "code",
   "execution_count": 74,
   "id": "05aa6e1a",
   "metadata": {},
   "outputs": [
    {
     "data": {
      "image/png": "[encoded data removed]",
      "text/plain": [
       "<Figure size 432x288 with 1 Axes>"
      ]
     },
     "metadata": {
      "needs_background": "light"
     },
     "output_type": "display_data"
    },
    {
     "data": {
      "text/plain": [
       "([-4, 1, 3], [-2, 2])"
      ]
     },
     "execution_count": 74,
     "metadata": {},
     "output_type": "execute_result"
    }
   ],
   "source": [
    "def critical_point():\n",
    "    x=sy.symbols('x')\n",
    "    f=2*x**6-51*x**4+48*x**3+312*x**2-576*x-100\n",
    "    lf=sy.lambdify(x,f)\n",
    "    df=sy.diff(f)\n",
    "    cp=[-4,-2,1,2,3]\n",
    "    ddf=sy.diff(df)\n",
    "    lddf=sy.lambdify(x,ddf)\n",
    "    mins=[-4,1,3]\n",
    "    maxs=[-2,2]\n",
    "    \n",
    "    x1=np.linspace(-5,5,100)\n",
    "    y1=lf(x1)\n",
    "    \n",
    "    ymin=[]\n",
    "    for i in mins:\n",
    "        ymin.append(lf(i))\n",
    "    \n",
    "    ymax=[]\n",
    "    for i in maxs:\n",
    "        ymax.append(lf(i))\n",
    "    \n",
    "    plt.plot(x1,y1)\n",
    "    plt.plot(mins,ymin,'.',label='mins')\n",
    "    plt.plot(maxs,ymax,'.',label='maxes')\n",
    "    plt.legend(loc='upper left')\n",
    "    plt.show()\n",
    "    return mins,maxs\n",
    "\n",
    "critical_point()"
   ]
  },
  {
   "cell_type": "markdown",
   "id": "120f8c72",
   "metadata": {},
   "source": [
    "Problem 4"
   ]
  },
  {
   "cell_type": "code",
   "execution_count": 79,
   "id": "9d700715",
   "metadata": {},
   "outputs": [],
   "source": [
    "def pdx(f):\n",
    "    return sy.diff(f,x)\n",
    "\n",
    "def pdy(f):\n",
    "    return sy.diff(f,y)\n",
    "    \n",
    "x,y=sy.symbols('x y')"
   ]
  },
  {
   "cell_type": "markdown",
   "id": "8f792448",
   "metadata": {},
   "source": [
    "4a"
   ]
  },
  {
   "cell_type": "code",
   "execution_count": 80,
   "id": "4d9d4577",
   "metadata": {},
   "outputs": [
    {
     "data": {
      "text/latex": [
       "$\\displaystyle - \\frac{2 x \\left(x^{2} - y^{2}\\right)}{\\left(x^{2} + y^{2}\\right)^{2}} + \\frac{2 x}{x^{2} + y^{2}}$"
      ],
      "text/plain": [
       "-2*x*(x**2 - y**2)/(x**2 + y**2)**2 + 2*x/(x**2 + y**2)"
      ]
     },
     "execution_count": 80,
     "metadata": {},
     "output_type": "execute_result"
    }
   ],
   "source": [
    "f=(x**2-y**2)/(x**2+y**2)\n",
    "pdx(f)"
   ]
  },
  {
   "cell_type": "code",
   "execution_count": 81,
   "id": "11da91cc",
   "metadata": {},
   "outputs": [
    {
     "data": {
      "text/latex": [
       "$\\displaystyle - \\frac{2 y \\left(x^{2} - y^{2}\\right)}{\\left(x^{2} + y^{2}\\right)^{2}} - \\frac{2 y}{x^{2} + y^{2}}$"
      ],
      "text/plain": [
       "-2*y*(x**2 - y**2)/(x**2 + y**2)**2 - 2*y/(x**2 + y**2)"
      ]
     },
     "execution_count": 81,
     "metadata": {},
     "output_type": "execute_result"
    }
   ],
   "source": [
    "pdy(f)"
   ]
  },
  {
   "cell_type": "markdown",
   "id": "fa890038",
   "metadata": {},
   "source": [
    "4b"
   ]
  },
  {
   "cell_type": "code",
   "execution_count": 84,
   "id": "954f1ee4",
   "metadata": {},
   "outputs": [
    {
     "data": {
      "text/latex": [
       "$\\displaystyle - 3 x^{2} + y^{2}$"
      ],
      "text/plain": [
       "-3*x**2 + y**2"
      ]
     },
     "execution_count": 84,
     "metadata": {},
     "output_type": "execute_result"
    }
   ],
   "source": [
    "f=x*y**2-x**3\n",
    "pdx(f)"
   ]
  },
  {
   "cell_type": "code",
   "execution_count": 85,
   "id": "7bce1127",
   "metadata": {},
   "outputs": [
    {
     "data": {
      "text/latex": [
       "$\\displaystyle 2 x y$"
      ],
      "text/plain": [
       "2*x*y"
      ]
     },
     "execution_count": 85,
     "metadata": {},
     "output_type": "execute_result"
    }
   ],
   "source": [
    "pdy(f)"
   ]
  },
  {
   "cell_type": "markdown",
   "id": "2d0854df",
   "metadata": {},
   "source": [
    "4c"
   ]
  },
  {
   "cell_type": "code",
   "execution_count": 88,
   "id": "c7154247",
   "metadata": {},
   "outputs": [
    {
     "data": {
      "text/latex": [
       "$\\displaystyle - \\frac{6 x \\left(2 x^{2} + 3 x y + 4 y^{2}\\right)}{\\left(3 x^{2} + 5 y^{2}\\right)^{2}} + \\frac{4 x + 3 y}{3 x^{2} + 5 y^{2}}$"
      ],
      "text/plain": [
       "-6*x*(2*x**2 + 3*x*y + 4*y**2)/(3*x**2 + 5*y**2)**2 + (4*x + 3*y)/(3*x**2 + 5*y**2)"
      ]
     },
     "execution_count": 88,
     "metadata": {},
     "output_type": "execute_result"
    }
   ],
   "source": [
    "f=(2*x**2+3*x*y+4*y**2)/(3*x**2+5*y**2)\n",
    "pdx(f)"
   ]
  },
  {
   "cell_type": "code",
   "execution_count": 89,
   "id": "efa1adfb",
   "metadata": {},
   "outputs": [
    {
     "data": {
      "text/latex": [
       "$\\displaystyle - \\frac{10 y \\left(2 x^{2} + 3 x y + 4 y^{2}\\right)}{\\left(3 x^{2} + 5 y^{2}\\right)^{2}} + \\frac{3 x + 8 y}{3 x^{2} + 5 y^{2}}$"
      ],
      "text/plain": [
       "-10*y*(2*x**2 + 3*x*y + 4*y**2)/(3*x**2 + 5*y**2)**2 + (3*x + 8*y)/(3*x**2 + 5*y**2)"
      ]
     },
     "execution_count": 89,
     "metadata": {},
     "output_type": "execute_result"
    }
   ],
   "source": [
    "pdy(f)"
   ]
  }
 ],
 "metadata": {
  "kernelspec": {
   "display_name": "Python 3 (ipykernel)",
   "language": "python",
   "name": "python3"
  },
  "language_info": {
   "codemirror_mode": {
    "name": "ipython",
    "version": 3
   },
   "file_extension": ".py",
   "mimetype": "text/x-python",
   "name": "python",
   "nbconvert_exporter": "python",
   "pygments_lexer": "ipython3",
   "version": "3.9.7"
  }
 },
 "nbformat": 4,
 "nbformat_minor": 5
}
