{
 "cells": [
  {
   "cell_type": "code",
   "execution_count": 16,
   "id": "3eb768ed",
   "metadata": {},
   "outputs": [],
   "source": [
    "import math\n",
    "import matplotlib.pyplot as plt"
   ]
  },
  {
   "cell_type": "markdown",
   "id": "d11d134c",
   "metadata": {},
   "source": [
    "Problem 1"
   ]
  },
  {
   "cell_type": "code",
   "execution_count": 3,
   "id": "e4dde0b6",
   "metadata": {},
   "outputs": [],
   "source": [
    "def riemann_sum_2D(f,xMin,xMax,yMin,yMax,N,method):\n",
    "    rSum=0\n",
    "    xStep=(xMax-xMin)/N\n",
    "    yStep=(yMax-yMin)/N\n",
    "    \n",
    "    if method=='left':\n",
    "        for i in range(N):\n",
    "            for j in range(N):\n",
    "                rSum+=f(xMin+i*xStep,yMin+j*yStep)*xStep*yStep\n",
    "    \n",
    "    if method=='right':\n",
    "        for i in range(1,N+1):\n",
    "            for j in range(1,N+1):\n",
    "                rSum+=f(xMin+i*xStep,yMin+j*yStep)*xStep*yStep\n",
    "                \n",
    "    if method=='mid':\n",
    "        for i in range(N):\n",
    "            for j in range(N):\n",
    "                rSum+=f(xMin+i*xStep+xStep/2,yMin+j*yStep+yStep/2)*xStep*yStep\n",
    "                \n",
    "    return rSum"
   ]
  },
  {
   "cell_type": "markdown",
   "id": "f8e6744c",
   "metadata": {},
   "source": [
    "Problem 2"
   ]
  },
  {
   "cell_type": "code",
   "execution_count": 15,
   "id": "b6c0561b",
   "metadata": {},
   "outputs": [
    {
     "name": "stdout",
     "output_type": "stream",
     "text": [
      "a) N=10: 3.335619689249047\n",
      "a) N=20: 3.2926027753992186\n",
      "b) N=10: 0.49802317951322095\n",
      "b) N=20: 0.49950535521827705\n",
      "c) N=10: 1.3302093750000004\n",
      "c) N=20: 1.3325521484375003\n"
     ]
    }
   ],
   "source": [
    "f=lambda x,y:x*math.sin(x*y)\n",
    "print('a) N=10:',riemann_sum_2D(f,0,math.pi,0,math.pi,10,'mid'))\n",
    "print('a) N=20:',riemann_sum_2D(f,0,math.pi,0,math.pi,20,'mid'))\n",
    "f=lambda x,y:y**2*math.exp(-x*-y)\n",
    "print('b) N=10:',riemann_sum_2D(f,0,1,0,1,10,'mid'))\n",
    "print('b) N=20:',riemann_sum_2D(f,0,1,0,1,20,'mid'))\n",
    "f=lambda x,y:x**3*y**2+x*y\n",
    "print('c) N=10:',riemann_sum_2D(f,0,1,1,2,10,'mid'))\n",
    "print('c) N=20:',riemann_sum_2D(f,0,1,1,2,20,'mid'))"
   ]
  },
  {
   "cell_type": "markdown",
   "id": "3bd4b357",
   "metadata": {},
   "source": [
    "Problem 3"
   ]
  },
  {
   "cell_type": "code",
   "execution_count": 21,
   "id": "c8eb0385",
   "metadata": {},
   "outputs": [
    {
     "data": {
      "image/png": "[encoded data removed]",
      "text/plain": [
       "<Figure size 432x288 with 1 Axes>"
      ]
     },
     "metadata": {
      "needs_background": "light"
     },
     "output_type": "display_data"
    }
   ],
   "source": [
    "f=lambda x,y:x*math.sin(x+y)\n",
    "x=[i for i in range(1,101)]\n",
    "y=[((1/12)*(-6+6*math.sqrt(3)-math.pi))-riemann_sum_2D(f,0,math.pi/6,0,math.pi/3,i,'mid') for i in x]\n",
    "plt.plot(x,y)\n",
    "plt.ylim(0,.003)\n",
    "plt.show()"
   ]
  },
  {
   "cell_type": "markdown",
   "id": "952b8403",
   "metadata": {},
   "source": [
    "Problem 4"
   ]
  },
  {
   "cell_type": "code",
   "execution_count": 22,
   "id": "089cc6f5",
   "metadata": {},
   "outputs": [],
   "source": [
    "def riemann_sum_3D(f,xMin,xMax,yMin,yMax,zMin,zMax,N,method):\n",
    "    rSum=0\n",
    "    xStep=(xMax-xMin)/N\n",
    "    yStep=(yMax-yMin)/N\n",
    "    zStep=(zMax-zMin)/N\n",
    "    \n",
    "    if method=='left':\n",
    "        for i in range(N):\n",
    "            for j in range(N):\n",
    "                for k in range(N):\n",
    "                    rSum+=f(xMin+i*xStep,yMin+j*yStep,zMin+k*zStep)*xStep*yStep*zStep\n",
    "    \n",
    "    if method=='right':\n",
    "        for i in range(1,N+1):\n",
    "            for j in range(1,N+1):\n",
    "                for k in range(1,N+1):\n",
    "                    rSum+=f(xMin+i*xStep,yMin+j*yStep,zMin+k*zStep)*xStep*yStep*zStep\n",
    "                \n",
    "    if method=='mid':\n",
    "        for i in range(N):\n",
    "            for j in range(N):\n",
    "                for k in range(N):\n",
    "                    rSum+=f(xMin+i*xStep+xStep/2,yMin+j*yStep+yStep/2,zMin+k*zStep+zStep/2)*xStep*yStep*zStep\n",
    "                \n",
    "    return rSum"
   ]
  },
  {
   "cell_type": "markdown",
   "id": "1fa7a442",
   "metadata": {},
   "source": [
    "Problem 5"
   ]
  },
  {
   "cell_type": "code",
   "execution_count": 23,
   "id": "860c7480",
   "metadata": {},
   "outputs": [
    {
     "name": "stdout",
     "output_type": "stream",
     "text": [
      "N=10: 20.955\n",
      "N=20: 20.98875000000004\n"
     ]
    }
   ],
   "source": [
    "f=lambda x,y,z:x*y+z**2\n",
    "print('N=10:',riemann_sum_3D(f,0,2,0,1,0,3,10,'mid'))\n",
    "print('N=20:',riemann_sum_3D(f,0,2,0,1,0,3,20,'mid'))"
   ]
  }
 ],
 "metadata": {
  "kernelspec": {
   "display_name": "Python 3 (ipykernel)",
   "language": "python",
   "name": "python3"
  },
  "language_info": {
   "codemirror_mode": {
    "name": "ipython",
    "version": 3
   },
   "file_extension": ".py",
   "mimetype": "text/x-python",
   "name": "python",
   "nbconvert_exporter": "python",
   "pygments_lexer": "ipython3",
   "version": "3.9.7"
  }
 },
 "nbformat": 4,
 "nbformat_minor": 5
}
