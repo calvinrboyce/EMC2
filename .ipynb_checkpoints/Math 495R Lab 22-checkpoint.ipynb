{
 "cells": [
  {
   "cell_type": "code",
   "execution_count": 1,
   "id": "b648787a",
   "metadata": {},
   "outputs": [],
   "source": [
    "from turtle import *"
   ]
  },
  {
   "cell_type": "markdown",
   "id": "174041e9",
   "metadata": {},
   "source": [
    "Problem 1"
   ]
  },
  {
   "cell_type": "code",
   "execution_count": 2,
   "id": "cdc3cd6e",
   "metadata": {},
   "outputs": [],
   "source": [
    "speed(0)\n",
    "penup()\n",
    "goto(-50,-50)\n",
    "pendown()\n",
    "left(60)\n",
    "for i in range(3):\n",
    "    forward(100)\n",
    "    right(120)\n",
    "    \n",
    "exitonclick()"
   ]
  },
  {
   "cell_type": "markdown",
   "id": "6987aee1",
   "metadata": {},
   "source": [
    "Problem 2"
   ]
  },
  {
   "cell_type": "code",
   "execution_count": 2,
   "id": "eb94e60d",
   "metadata": {},
   "outputs": [],
   "source": [
    "def draw_triangle(side_length):\n",
    "    for i in range(3):\n",
    "        forward(side_length)\n",
    "        right(120)"
   ]
  },
  {
   "cell_type": "markdown",
   "id": "79b3d98a",
   "metadata": {},
   "source": [
    "Problem 3"
   ]
  },
  {
   "cell_type": "code",
   "execution_count": null,
   "id": "468537c0",
   "metadata": {},
   "outputs": [],
   "source": [
    "speed(0)\n",
    "penup()\n",
    "goto(-100,-100)\n",
    "pendown()\n",
    "left(60)\n",
    "draw_triangle(100)\n",
    "forward(100)\n",
    "draw_triangle(100)\n",
    "right(120)\n",
    "forward(100)\n",
    "left(120)\n",
    "draw_triangle(100)\n",
    "    \n",
    "done()"
   ]
  },
  {
   "cell_type": "markdown",
   "id": "b0a50b31",
   "metadata": {},
   "source": [
    "Problem 4"
   ]
  },
  {
   "cell_type": "code",
   "execution_count": 3,
   "id": "c2c5e34d",
   "metadata": {},
   "outputs": [],
   "source": [
    "def sierpinski(start_length,min_length):\n",
    "    if start_length<min_length:\n",
    "        return\n",
    "    draw_triangle(start_length)\n",
    "    sierpinski(start_length/2,min_length)\n",
    "    forward(start_length)\n",
    "    draw_triangle(start_length)\n",
    "    sierpinski(start_length/2,min_length)\n",
    "    right(120)\n",
    "    forward(start_length)\n",
    "    left(120)\n",
    "    draw_triangle(start_length)\n",
    "    sierpinski(start_length/2,min_length)\n",
    "    left(120)\n",
    "    forward(start_length)\n",
    "    right(120)"
   ]
  },
  {
   "cell_type": "markdown",
   "id": "1e4792e8",
   "metadata": {},
   "source": [
    "Problem 5"
   ]
  },
  {
   "cell_type": "code",
   "execution_count": null,
   "id": "da94553a",
   "metadata": {},
   "outputs": [],
   "source": [
    "hideturtle()\n",
    "speed(0)\n",
    "penup()\n",
    "goto(-200,-150)\n",
    "pendown()\n",
    "left(60)\n",
    "showturtle()\n",
    "sierpinski(200,10)\n",
    "hideturtle()\n",
    "done()"
   ]
  }
 ],
 "metadata": {
  "kernelspec": {
   "display_name": "Python 3 (ipykernel)",
   "language": "python",
   "name": "python3"
  },
  "language_info": {
   "codemirror_mode": {
    "name": "ipython",
    "version": 3
   },
   "file_extension": ".py",
   "mimetype": "text/x-python",
   "name": "python",
   "nbconvert_exporter": "python",
   "pygments_lexer": "ipython3",
   "version": "3.9.7"
  }
 },
 "nbformat": 4,
 "nbformat_minor": 5
}
