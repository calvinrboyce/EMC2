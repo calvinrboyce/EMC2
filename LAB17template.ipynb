{
 "cells": [
  {
   "cell_type": "code",
   "execution_count": 2,
   "metadata": {},
   "outputs": [
    {
     "name": "stdout",
     "output_type": "stream",
     "text": [
      "4.9293152\n"
     ]
    }
   ],
   "source": [
    "import numpy as np\n",
    "from scipy import linalg as la\n",
    "\n",
    "def openBallVolume(n, N = 10**4):\n",
    "    points=np.random.uniform(-1,1,(n,N))\n",
    "    lengths=la.norm(points, axis=0)\n",
    "    num_within=np.count_nonzero(lengths<1)\n",
    "    return 2**n*(num_within/N)\n",
    "\n",
    "print(openBallVolume(4,10000000))"
   ]
  },
  {
   "cell_type": "code",
   "execution_count": 3,
   "metadata": {},
   "outputs": [
    {
     "name": "stdout",
     "output_type": "stream",
     "text": [
      "23.989417379700456\n",
      "0.0032099436853066632\n",
      "2.3014604048660794\n"
     ]
    }
   ],
   "source": [
    "def montecarlo_1D(f, a, b, N = 10**4):\n",
    "    points=np.random.uniform(a,b,(1,N))\n",
    "    values=f(points)\n",
    "    return (b-a)*(np.sum(values)/N)\n",
    "\n",
    "print(montecarlo_1D(lambda x: x**2, -4, 2, 10000000))\n",
    "print(montecarlo_1D(lambda x: np.sin(x), -2*np.pi, 2*np.pi, 10000000))\n",
    "print(montecarlo_1D(lambda x: 1/x, 1, 10, 10000000))"
   ]
  },
  {
   "cell_type": "code",
   "execution_count": 4,
   "metadata": {},
   "outputs": [
    {
     "name": "stdout",
     "output_type": "stream",
     "text": [
      "0.6664895926839688\n",
      "54.003704674950626\n",
      "0.32508404180232303\n"
     ]
    }
   ],
   "source": [
    "def montecarlo_nD(f, a, b, N = 10**4):\n",
    "    #make points from 0 to 1\n",
    "    points=np.random.uniform(0,1,(len(a),N))\n",
    "    \n",
    "    #shift points to relative mins and maxes\n",
    "    for i in range(len(points)):\n",
    "        points[i]=points[i]*(b[i]-a[i])+a[i]\n",
    "    \n",
    "    #compute function values\n",
    "    values=f(points)\n",
    "    \n",
    "    #compute volume\n",
    "    volume=1\n",
    "    for i in range(len(a)):\n",
    "        volume*=b[i]-a[i]\n",
    "    \n",
    "    return volume*(np.sum(values)/N)\n",
    "\n",
    "\n",
    "print(montecarlo_nD(lambda x: x[0]**2 + x[1]**2, [0,0], [1,1], 10000000))\n",
    "print(montecarlo_nD(lambda x: 3*x[0] - 4*x[1] + x[1]**2, [1,-2], [3,1], 10000000))\n",
    "print(montecarlo_nD(lambda x: x[0] + x[1] - x[3]*x[2], [-1,-2,-3,-4], [1,2,3,4], 10000000))"
   ]
  },
  {
   "cell_type": "markdown",
   "metadata": {},
   "source": [
    "The last integral is kind of bad; usually we're within $\\frac{1}{2}$ of the right answer, but not within $\\frac{1}{10}$."
   ]
  }
 ],
 "metadata": {
  "kernelspec": {
   "display_name": "Python 3",
   "language": "python",
   "name": "python3"
  },
  "language_info": {
   "codemirror_mode": {
    "name": "ipython",
    "version": 3
   },
   "file_extension": ".py",
   "mimetype": "text/x-python",
   "name": "python",
   "nbconvert_exporter": "python",
   "pygments_lexer": "ipython3",
   "version": "3.8.5"
  }
 },
 "nbformat": 4,
 "nbformat_minor": 2
}
