{
 "cells": [
  {
   "cell_type": "code",
   "execution_count": 9,
   "metadata": {},
   "outputs": [],
   "source": [
    "import numpy as np"
   ]
  },
  {
   "cell_type": "markdown",
   "metadata": {},
   "source": [
    "Problem 1"
   ]
  },
  {
   "cell_type": "code",
   "execution_count": 26,
   "metadata": {},
   "outputs": [],
   "source": [
    "def polygon_1D(vertices):\n",
    "    area=0\n",
    "    for i in range(len(vertices)):\n",
    "        area+=vertices[i-1][0]*vertices[i][1]-vertices[i][0]*vertices[i-1][1]\n",
    "    return abs(area/2)"
   ]
  },
  {
   "cell_type": "markdown",
   "metadata": {},
   "source": [
    "Problem 2"
   ]
  },
  {
   "cell_type": "code",
   "execution_count": 27,
   "metadata": {},
   "outputs": [
    {
     "name": "stdout",
     "output_type": "stream",
     "text": [
      "a) 4.5\n",
      "b) 96.0\n"
     ]
    }
   ],
   "source": [
    "vertices1=[[0,0],[2,1],[1,3],[0,2],[-1,1]]\n",
    "print('a)', polygon_1D(vertices1))\n",
    "vertices2=[[3,0],[5,3],[1,7],[-1,4],[-5,7],[-5,-2],[-2,-6],[5,-6],[2,-3],[5,-2]]\n",
    "print('b)', polygon_1D(vertices2))"
   ]
  },
  {
   "cell_type": "markdown",
   "metadata": {},
   "source": [
    "Problem 3"
   ]
  },
  {
   "cell_type": "code",
   "execution_count": 39,
   "metadata": {},
   "outputs": [],
   "source": [
    "def planeify(p1,p2,p3):\n",
    "    v1=np.array(p1)\n",
    "    v2=np.array(p2)\n",
    "    v3=np.array(p3)\n",
    "    v12=v2-v1\n",
    "    v13=v3-v1\n",
    "    n=np.cross(v12,v13)/np.linalg.norm(np.cross(v12,v13))\n",
    "    d=np.dot(n,v1)\n",
    "    return [n[0],n[1],n[2],d]"
   ]
  },
  {
   "cell_type": "markdown",
   "metadata": {},
   "source": [
    "Problem 4"
   ]
  },
  {
   "cell_type": "code",
   "execution_count": 40,
   "metadata": {},
   "outputs": [],
   "source": [
    "def polygon_3D(v):\n",
    "    f=planeify(v[0],v[1],v[2])\n",
    "    if f[0]==0 or f[1]==0 or f[2]==0:\n",
    "        return 'couldnt find proper F, division by 0'\n",
    "    for i in v:\n",
    "        if abs(np.dot(np.array(f[:3]),np.array(i))-f[3])>.01:\n",
    "            return 'these points are not all on the same plane'\n",
    "    \n",
    "    area=0\n",
    "    for i in range(len(v)):\n",
    "        area+=((v[i-1][0]*v[i][1]-v[i][0]*v[i-1][1])/f[2])+((v[i][0]*v[i-1][2]-v[i-1][0]*v[i][2])/f[1])+((v[i-1][1]*v[i][2]-v[i][1]*v[i-1][2])/f[0])\n",
    "    return abs(area/6)"
   ]
  },
  {
   "cell_type": "code",
   "execution_count": 41,
   "metadata": {},
   "outputs": [
    {
     "name": "stdout",
     "output_type": "stream",
     "text": [
      "1.0000355790245938\n",
      "80.50022917559771\n",
      "83.00039431394286\n"
     ]
    }
   ],
   "source": [
    "print(polygon_3D([[-0.5571,-0.3714,-0.7428],[-0.7636,-1.1758,-0.1857],[-1.5680,-0.7120,0.1857],[-1.3614,0.0924,-0.3714]]))\n",
    "print(polygon_3D([[-0.6667, -0.6667, -0.3333],[3.6667, -3.3333, 5.3333],[-1.6667, -8.6667, 2.6667],[-5.6667, -0.6667, -5.3333],[1.0000, 6.0000, -2.0000],[0.3333, 5.3333, -2.3333]]))\n",
    "print(polygon_3D([[1.2113, 1.2113, 2.4226],[-4.9434, 5.0566, 0.1132],[-3.2528, -1.2528, -4.5056],[6.2113, -3.7887, 2.4226],[4.0981, 4.0981, 8.1962]]))"
   ]
  }
 ],
 "metadata": {
  "kernelspec": {
   "display_name": "Python 3",
   "language": "python",
   "name": "python3"
  },
  "language_info": {
   "codemirror_mode": {
    "name": "ipython",
    "version": 3
   },
   "file_extension": ".py",
   "mimetype": "text/x-python",
   "name": "python",
   "nbconvert_exporter": "python",
   "pygments_lexer": "ipython3",
   "version": "3.8.5"
  }
 },
 "nbformat": 4,
 "nbformat_minor": 4
}
