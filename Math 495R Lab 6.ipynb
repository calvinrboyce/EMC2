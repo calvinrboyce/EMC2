{
 "cells": [
  {
   "cell_type": "markdown",
   "id": "6a77ec92",
   "metadata": {},
   "source": [
    "Problem 1:<br>\n",
    "We had to run through the list 3 times<br>\n",
    "You have to run thorugh a list n-1 times if n is the number of elements"
   ]
  },
  {
   "cell_type": "code",
   "execution_count": 8,
   "id": "a05e3f75",
   "metadata": {},
   "outputs": [],
   "source": [
    "def bubble_sort(l):\n",
    "    for i in range(len(l)-1):\n",
    "        for j in range(len(l)-1):\n",
    "            if l[j]>l[j+1]:\n",
    "                l[j],l[j+1]=l[j+1],l[j]\n",
    "    return l"
   ]
  },
  {
   "cell_type": "code",
   "execution_count": 10,
   "id": "5ef846a4",
   "metadata": {},
   "outputs": [
    {
     "data": {
      "text/plain": [
       "[0, 1, 2, 3]"
      ]
     },
     "execution_count": 10,
     "metadata": {},
     "output_type": "execute_result"
    }
   ],
   "source": [
    "bubble_sort([3,2,1,0])"
   ]
  },
  {
   "cell_type": "code",
   "execution_count": 11,
   "id": "94303537",
   "metadata": {},
   "outputs": [
    {
     "data": {
      "text/plain": [
       "[0, 1, 2, 3, 4, 5, 6, 7, 8, 9, 10]"
      ]
     },
     "execution_count": 11,
     "metadata": {},
     "output_type": "execute_result"
    }
   ],
   "source": [
    "bubble_sort([10,9,8,7,6,5,4,3,2,1,0])"
   ]
  },
  {
   "cell_type": "code",
   "execution_count": 13,
   "id": "473ae081",
   "metadata": {},
   "outputs": [
    {
     "data": {
      "text/plain": [
       "[1,\n",
       " 2,\n",
       " 2,\n",
       " 2,\n",
       " 3,\n",
       " 4,\n",
       " 4,\n",
       " 4,\n",
       " 6,\n",
       " 6,\n",
       " 7,\n",
       " 7,\n",
       " 8,\n",
       " 8,\n",
       " 8,\n",
       " 9,\n",
       " 12,\n",
       " 12,\n",
       " 14,\n",
       " 14,\n",
       " 15,\n",
       " 15,\n",
       " 19,\n",
       " 20,\n",
       " 22,\n",
       " 23,\n",
       " 23,\n",
       " 24,\n",
       " 25,\n",
       " 25,\n",
       " 25,\n",
       " 26,\n",
       " 28,\n",
       " 28,\n",
       " 30,\n",
       " 32,\n",
       " 32,\n",
       " 33,\n",
       " 35,\n",
       " 38,\n",
       " 39,\n",
       " 39,\n",
       " 40,\n",
       " 41,\n",
       " 41,\n",
       " 41,\n",
       " 42,\n",
       " 43,\n",
       " 44,\n",
       " 45,\n",
       " 45,\n",
       " 47,\n",
       " 48,\n",
       " 51,\n",
       " 51,\n",
       " 52,\n",
       " 53,\n",
       " 55,\n",
       " 55,\n",
       " 59,\n",
       " 60,\n",
       " 61,\n",
       " 61,\n",
       " 64,\n",
       " 66,\n",
       " 68,\n",
       " 70,\n",
       " 72,\n",
       " 75,\n",
       " 75,\n",
       " 76,\n",
       " 78,\n",
       " 79,\n",
       " 80,\n",
       " 80,\n",
       " 81,\n",
       " 81,\n",
       " 82,\n",
       " 84,\n",
       " 84,\n",
       " 88,\n",
       " 88,\n",
       " 88,\n",
       " 89,\n",
       " 90,\n",
       " 91,\n",
       " 91,\n",
       " 92,\n",
       " 94,\n",
       " 95,\n",
       " 95,\n",
       " 95,\n",
       " 96,\n",
       " 98,\n",
       " 98,\n",
       " 98,\n",
       " 99,\n",
       " 99,\n",
       " 99,\n",
       " 100]"
      ]
     },
     "execution_count": 13,
     "metadata": {},
     "output_type": "execute_result"
    }
   ],
   "source": [
    "bubble_sort( [48, 81, 25, 12, 47, 4, 15, 90, 95, 7, 80, 68, 88, 8, 42, 3, 6, 14, 76,\n",
    "19, 91, 52, 15, 51, 95, 1, 6, 81, 35, 99, 23, 24, 72, 94, 98, 88, 20, 84,\n",
    "55, 32, 45, 99, 40, 51, 2, 25, 82, 66, 75, 30, 38, 8, 75, 33, 2, 7, 98, 61,\n",
    "28, 2, 39, 100, 25, 89, 70, 41, 91, 8, 78, 61, 26, 9, 88, 92, 59, 44, 41,\n",
    "60, 99, 80, 28, 53, 45, 95, 96, 84, 39, 55, 32, 98, 41, 23, 4, 14, 22, 4,\n",
    "64, 12, 79, 43])"
   ]
  },
  {
   "cell_type": "markdown",
   "id": "bf93ee9d",
   "metadata": {},
   "source": [
    "Problem 4:<br>\n",
    "Bubble Sort is O(n^2)<br>\n",
    "We do n-1 comparisons n-1 times<br>\n",
    "Two for loops on n means O(n^2)"
   ]
  },
  {
   "cell_type": "markdown",
   "id": "1d48091a",
   "metadata": {},
   "source": [
    "Problem 5:<br>\n",
    "Binary search is O(log n)"
   ]
  }
 ],
 "metadata": {
  "kernelspec": {
   "display_name": "Python 3 (ipykernel)",
   "language": "python",
   "name": "python3"
  },
  "language_info": {
   "codemirror_mode": {
    "name": "ipython",
    "version": 3
   },
   "file_extension": ".py",
   "mimetype": "text/x-python",
   "name": "python",
   "nbconvert_exporter": "python",
   "pygments_lexer": "ipython3",
   "version": "3.9.7"
  }
 },
 "nbformat": 4,
 "nbformat_minor": 5
}
