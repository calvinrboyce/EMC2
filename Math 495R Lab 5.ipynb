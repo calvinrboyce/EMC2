{
 "cells": [
  {
   "cell_type": "code",
   "execution_count": 29,
   "id": "a3ed2cc9",
   "metadata": {},
   "outputs": [],
   "source": [
    "import numpy as np\n",
    "import matplotlib.pyplot as plt"
   ]
  },
  {
   "cell_type": "code",
   "execution_count": 30,
   "id": "34f709cc",
   "metadata": {},
   "outputs": [],
   "source": [
    "def seq_mult(x,t):\n",
    "    return [y*t for y in x]\n",
    "def seq_add(a,b):\n",
    "    return [a[n]+b[n] for n in range(len(a))]\n",
    "\n",
    "def bezier_point(m,t):\n",
    "    #accepts the points and a parameter t and evaluates the point\n",
    "    #on the bezier curve\n",
    "    if len(m)==1:\n",
    "        return m\n",
    "    else:\n",
    "        m1=[seq_add(seq_mult(m[n],1-t),seq_mult(m[n+1],t)) for n in range(len(m)-1)]\n",
    "        return bezier_point(m1,t)"
   ]
  },
  {
   "cell_type": "code",
   "execution_count": 42,
   "id": "2cf1e5bb",
   "metadata": {},
   "outputs": [
    {
     "data": {
      "image/png": "[encoded data removed]",
      "text/plain": [
       "<Figure size 432x288 with 1 Axes>"
      ]
     },
     "metadata": {
      "needs_background": "light"
     },
     "output_type": "display_data"
    }
   ],
   "source": [
    "def bezier_plot(m):\n",
    "    t=np.linspace(0,1,100)\n",
    "    x=[]\n",
    "    y=[]\n",
    "    for n in t:\n",
    "        x.append(bezier_point(m,n)[0][0])\n",
    "        y.append(bezier_point(m,n)[0][1])\n",
    "    plt.plot(x,y)\n",
    "    plt.xlim(-1,1)\n",
    "    plt.ylim(-1,1)\n",
    "    plt.show()\n",
    "\n",
    "A=[[-.25,.25],[-.25,.75],[.25,.25],[.25,.5]]\n",
    "bezier_plot(A)"
   ]
  }
 ],
 "metadata": {
  "kernelspec": {
   "display_name": "Python 3 (ipykernel)",
   "language": "python",
   "name": "python3"
  },
  "language_info": {
   "codemirror_mode": {
    "name": "ipython",
    "version": 3
   },
   "file_extension": ".py",
   "mimetype": "text/x-python",
   "name": "python",
   "nbconvert_exporter": "python",
   "pygments_lexer": "ipython3",
   "version": "3.9.7"
  }
 },
 "nbformat": 4,
 "nbformat_minor": 5
}
