{
 "cells": [
  {
   "cell_type": "markdown",
   "metadata": {},
   "source": [
    "Problem 1"
   ]
  },
  {
   "cell_type": "code",
   "execution_count": 39,
   "metadata": {},
   "outputs": [
    {
     "name": "stdout",
     "output_type": "stream",
     "text": [
      "123 b5 [4, 4, 3]\n",
      "495 b5 [3, 4, 4, 0]\n",
      "31415926 b5 [3, 1, 0, 2, 0, 3, 0, 2, 2, 0, 1]\n",
      "123 b7 [2, 3, 4]\n",
      "495 b7 [1, 3, 0, 5]\n",
      "31415926 b7 [5, 3, 1, 0, 1, 3, 4, 2, 3]\n"
     ]
    },
    {
     "ename": "Exception",
     "evalue": "please enter a nonnegative integer",
     "output_type": "error",
     "traceback": [
      "\u001b[0;31m---------------------------------------------------------------------------\u001b[0m",
      "\u001b[0;31mException\u001b[0m                                 Traceback (most recent call last)",
      "\u001b[0;32m<ipython-input-39-0d3c5e60d606>\u001b[0m in \u001b[0;36m<module>\u001b[0;34m\u001b[0m\n\u001b[1;32m     32\u001b[0m \u001b[0mprint\u001b[0m\u001b[0;34m(\u001b[0m\u001b[0;34m'495 b7'\u001b[0m\u001b[0;34m,\u001b[0m\u001b[0mto_base_int\u001b[0m\u001b[0;34m(\u001b[0m\u001b[0;36m7\u001b[0m\u001b[0;34m,\u001b[0m\u001b[0;36m495\u001b[0m\u001b[0;34m)\u001b[0m\u001b[0;34m)\u001b[0m\u001b[0;34m\u001b[0m\u001b[0;34m\u001b[0m\u001b[0m\n\u001b[1;32m     33\u001b[0m \u001b[0mprint\u001b[0m\u001b[0;34m(\u001b[0m\u001b[0;34m'31415926 b7'\u001b[0m\u001b[0;34m,\u001b[0m\u001b[0mto_base_int\u001b[0m\u001b[0;34m(\u001b[0m\u001b[0;36m7\u001b[0m\u001b[0;34m,\u001b[0m\u001b[0;36m31415926\u001b[0m\u001b[0;34m)\u001b[0m\u001b[0;34m)\u001b[0m\u001b[0;34m\u001b[0m\u001b[0;34m\u001b[0m\u001b[0m\n\u001b[0;32m---> 34\u001b[0;31m \u001b[0mprint\u001b[0m\u001b[0;34m(\u001b[0m\u001b[0mto_base_int\u001b[0m\u001b[0;34m(\u001b[0m\u001b[0;36m8\u001b[0m\u001b[0;34m,\u001b[0m\u001b[0;36m.5\u001b[0m\u001b[0;34m)\u001b[0m\u001b[0;34m)\u001b[0m\u001b[0;34m\u001b[0m\u001b[0;34m\u001b[0m\u001b[0m\n\u001b[0m\u001b[1;32m     35\u001b[0m \u001b[0mprint\u001b[0m\u001b[0;34m(\u001b[0m\u001b[0mto_base_int\u001b[0m\u001b[0;34m(\u001b[0m\u001b[0;36m8\u001b[0m\u001b[0;34m,\u001b[0m\u001b[0;34m-\u001b[0m\u001b[0;36m2\u001b[0m\u001b[0;34m)\u001b[0m\u001b[0;34m)\u001b[0m\u001b[0;34m\u001b[0m\u001b[0;34m\u001b[0m\u001b[0m\n",
      "\u001b[0;32m<ipython-input-39-0d3c5e60d606>\u001b[0m in \u001b[0;36mto_base_int\u001b[0;34m(b, n)\u001b[0m\n\u001b[1;32m      3\u001b[0m \u001b[0;32mdef\u001b[0m \u001b[0mto_base_int\u001b[0m\u001b[0;34m(\u001b[0m\u001b[0mb\u001b[0m\u001b[0;34m,\u001b[0m\u001b[0mn\u001b[0m\u001b[0;34m)\u001b[0m\u001b[0;34m:\u001b[0m\u001b[0;34m\u001b[0m\u001b[0;34m\u001b[0m\u001b[0m\n\u001b[1;32m      4\u001b[0m     \u001b[0;32mif\u001b[0m \u001b[0mn\u001b[0m\u001b[0;34m!=\u001b[0m\u001b[0mint\u001b[0m\u001b[0;34m(\u001b[0m\u001b[0mn\u001b[0m\u001b[0;34m)\u001b[0m \u001b[0;32mor\u001b[0m \u001b[0mn\u001b[0m\u001b[0;34m<\u001b[0m\u001b[0;36m0\u001b[0m\u001b[0;34m:\u001b[0m\u001b[0;34m\u001b[0m\u001b[0;34m\u001b[0m\u001b[0m\n\u001b[0;32m----> 5\u001b[0;31m         \u001b[0;32mraise\u001b[0m \u001b[0mException\u001b[0m\u001b[0;34m(\u001b[0m\u001b[0;34m'please enter a nonnegative integer'\u001b[0m\u001b[0;34m)\u001b[0m\u001b[0;34m\u001b[0m\u001b[0;34m\u001b[0m\u001b[0m\n\u001b[0m\u001b[1;32m      6\u001b[0m \u001b[0;34m\u001b[0m\u001b[0m\n\u001b[1;32m      7\u001b[0m     \u001b[0mdigits\u001b[0m\u001b[0;34m=\u001b[0m\u001b[0;34m[\u001b[0m\u001b[0;34m]\u001b[0m\u001b[0;34m\u001b[0m\u001b[0;34m\u001b[0m\u001b[0m\n",
      "\u001b[0;31mException\u001b[0m: please enter a nonnegative integer"
     ]
    }
   ],
   "source": [
    "#accepts a base b and a nonnegative integer n\n",
    "#and returns the digits in base b\n",
    "def to_base_int(b,n):\n",
    "    if n!=int(n) or n<0:\n",
    "        raise Exception('please enter a nonnegative integer')\n",
    "        \n",
    "    digits=[]\n",
    "    \n",
    "    #find the power\n",
    "    k=0\n",
    "    while n-b**k>=0:\n",
    "        k+=1\n",
    "    k-=1\n",
    "    \n",
    "    for i in range(k,-1,-1):\n",
    "        #find how many times to subtract\n",
    "        bn=0\n",
    "        while n-(b**i*bn)>=0:\n",
    "            bn+=1\n",
    "        bn-=1\n",
    "\n",
    "        #save the digit and subtract the number\n",
    "        digits.append(bn)\n",
    "        n-=b**i*bn\n",
    "    \n",
    "    return digits\n",
    "\n",
    "print('123 b5',to_base_int(5,123))\n",
    "print('495 b5',to_base_int(5,495))\n",
    "print('31415926 b5',to_base_int(5,31415926))\n",
    "print('123 b7',to_base_int(7,123))\n",
    "print('495 b7',to_base_int(7,495))\n",
    "print('31415926 b7',to_base_int(7,31415926))\n",
    "print(to_base_int(8,.5))\n",
    "print(to_base_int(8,-2))"
   ]
  },
  {
   "cell_type": "markdown",
   "metadata": {},
   "source": [
    "Problem 2"
   ]
  },
  {
   "cell_type": "code",
   "execution_count": 56,
   "metadata": {},
   "outputs": [
    {
     "name": "stdout",
     "output_type": "stream",
     "text": [
      "0.7927\n",
      "x 0.9269999999999996 yn 7\n",
      "x 0.269999999999996 yn 9\n",
      "x 0.6999999999999602 yn 2\n",
      "x 0.9999999999996021 yn 6\n",
      "x 0.999999999996021 yn 9\n",
      "x 0.9999999999602096 yn 9\n",
      "x 0.9999999996020961 yn 9\n",
      "x 0.9999999960209607 yn 9\n"
     ]
    },
    {
     "data": {
      "text/plain": [
       "[7, 9, 2, 6, 9, 9, 9, 9]"
      ]
     },
     "execution_count": 56,
     "metadata": {},
     "output_type": "execute_result"
    }
   ],
   "source": [
    "def to_base_b_frac(b,x):\n",
    "    print(x)\n",
    "    if x<0 or x>=1:\n",
    "        raise Exception('please enter a number between 0 and 1')\n",
    "    \n",
    "    digits=[]\n",
    "    for i in range(1,9):\n",
    "        yn=0\n",
    "        while yn<=b*x:\n",
    "            yn+=1\n",
    "        yn-=1\n",
    "\n",
    "        x=b*x-yn\n",
    "        digits.append(yn)\n",
    "        print('x',x,'yn',yn)\n",
    "    \n",
    "    return digits\n",
    "        \n",
    "to_base_b_frac(10,.7927)"
   ]
  }
 ],
 "metadata": {
  "kernelspec": {
   "display_name": "Python 3",
   "language": "python",
   "name": "python3"
  },
  "language_info": {
   "codemirror_mode": {
    "name": "ipython",
    "version": 3
   },
   "file_extension": ".py",
   "mimetype": "text/x-python",
   "name": "python",
   "nbconvert_exporter": "python",
   "pygments_lexer": "ipython3",
   "version": "3.8.5"
  }
 },
 "nbformat": 4,
 "nbformat_minor": 4
}
