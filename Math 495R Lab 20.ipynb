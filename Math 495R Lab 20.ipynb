{
 "cells": [
  {
   "cell_type": "code",
   "execution_count": 6,
   "id": "ed444fd2",
   "metadata": {},
   "outputs": [],
   "source": [
    "import numpy as np\n",
    "import matplotlib.pyplot as plt"
   ]
  },
  {
   "cell_type": "markdown",
   "id": "ad128820",
   "metadata": {},
   "source": [
    "20.1.1"
   ]
  },
  {
   "cell_type": "code",
   "execution_count": 1,
   "id": "115914a3",
   "metadata": {},
   "outputs": [],
   "source": [
    "def left_endpoint_sum(f,a,b,n):\n",
    "    rSum=0\n",
    "    for i in range(n):\n",
    "        rSum+=f(((b-a)*i/n)+a)*(b-a)/n\n",
    "    return rSum\n",
    "\n",
    "def right_endpoint_sum(f,a,b,n):\n",
    "    rSum=0\n",
    "    for i in range(1,n+1):\n",
    "        rSum+=f(((b-a)*i/n)+a)*(b-a)/n\n",
    "    return rSum"
   ]
  },
  {
   "cell_type": "markdown",
   "id": "528ef101",
   "metadata": {},
   "source": [
    "20.1.2"
   ]
  },
  {
   "cell_type": "code",
   "execution_count": 37,
   "id": "9a94a6b4",
   "metadata": {},
   "outputs": [
    {
     "data": {
      "image/png": "[encoded data removed]",
      "text/plain": [
       "<Figure size 432x288 with 1 Axes>"
      ]
     },
     "metadata": {
      "needs_background": "light"
     },
     "output_type": "display_data"
    },
    {
     "name": "stdout",
     "output_type": "stream",
     "text": [
      "wolfram approx: 0.461281\n",
      "n=5\n",
      "left approx: 0.4716914247138931\n",
      "right approx: 0.4495715030210336\n",
      "n=10\n",
      "left approx: 0.46664870285423987\n",
      "right approx: 0.45558874200781013\n",
      "n=100\n",
      "left approx: 0.4618323819501024\n",
      "right approx: 0.4607263858654594\n"
     ]
    }
   ],
   "source": [
    "f=lambda x:np.exp(-x**2)\n",
    "x=np.linspace(0,.5,50)\n",
    "y=f(x)\n",
    "#plt.plot(x,y,label='f')\n",
    "\n",
    "wolfram=np.ones_like(x)*.461281\n",
    "plt.plot(x,wolfram,label='wolfram')\n",
    "\n",
    "n5left=np.ones_like(x)*left_endpoint_sum(f,0,.5,5)\n",
    "plt.plot(x,n5left,label='n5left')\n",
    "\n",
    "n5right=np.ones_like(x)*right_endpoint_sum(f,0,.5,5)\n",
    "plt.plot(x,n5right,label='n5right')\n",
    "\n",
    "n10left=np.ones_like(x)*left_endpoint_sum(f,0,.5,10)\n",
    "plt.plot(x,n10left,label='n10left')\n",
    "\n",
    "n10right=np.ones_like(x)*right_endpoint_sum(f,0,.5,10)\n",
    "plt.plot(x,n10right,label='n10right')\n",
    "\n",
    "n100left=np.ones_like(x)*left_endpoint_sum(f,0,.5,100)\n",
    "plt.plot(x,n100left,label='n100left')\n",
    "\n",
    "n100right=np.ones_like(x)*right_endpoint_sum(f,0,.5,100)\n",
    "plt.plot(x,n100right,label='n100right')\n",
    "\n",
    "plt.ylim(.445,.475)\n",
    "plt.legend()\n",
    "plt.show()\n",
    "print('wolfram approx:',0.461281)\n",
    "print('n=5')\n",
    "print('left approx:',left_endpoint_sum(f,0,.5,5))\n",
    "print('right approx:',right_endpoint_sum(f,0,.5,5))\n",
    "print('n=10')\n",
    "print('left approx:',left_endpoint_sum(f,0,.5,10))\n",
    "print('right approx:',right_endpoint_sum(f,0,.5,10))\n",
    "print('n=100')\n",
    "print('left approx:',left_endpoint_sum(f,0,.5,100))\n",
    "print('right approx:',right_endpoint_sum(f,0,.5,100))"
   ]
  },
  {
   "cell_type": "markdown",
   "id": "d8cca495",
   "metadata": {},
   "source": [
    "20.2.1"
   ]
  },
  {
   "cell_type": "code",
   "execution_count": 45,
   "id": "ce33c62f",
   "metadata": {},
   "outputs": [],
   "source": [
    "def midpoint_sum(f,a,b,n):\n",
    "    rSum=0\n",
    "    for i in range(n):\n",
    "        rSum+=f(((b-a)*(i+1/2)/n)+a)*(b-a)/n\n",
    "    return rSum\n",
    "\n",
    "def trapezoid_sum(f,a,b,n):\n",
    "    rSum=0\n",
    "    for i in range(n):\n",
    "        rSum+=((b-a)/(2*n))*(f(((b-a)*i/n)+a)+f(((b-a)*(i+1)/n)+a))\n",
    "    return rSum"
   ]
  },
  {
   "cell_type": "markdown",
   "id": "9a39364a",
   "metadata": {},
   "source": [
    "20.2.2"
   ]
  },
  {
   "cell_type": "code",
   "execution_count": 55,
   "id": "216dc70d",
   "metadata": {},
   "outputs": [
    {
     "data": {
      "image/png": "[encoded data removed]",
      "text/plain": [
       "<Figure size 432x288 with 1 Axes>"
      ]
     },
     "metadata": {
      "needs_background": "light"
     },
     "output_type": "display_data"
    },
    {
     "name": "stdout",
     "output_type": "stream",
     "text": [
      "wolfram approx: 0.461281\n",
      "n=5\n",
      "mid approx: 0.46160598099458666\n",
      "trap approx: 0.46063146386746334\n",
      "n=10\n",
      "mid approx: 0.46136216108720957\n",
      "trap approx: 0.46111872243102503\n",
      "n=100\n",
      "mid approx: 0.4612818176665659\n",
      "trap approx: 0.46127938390778084\n"
     ]
    }
   ],
   "source": [
    "wolfram=np.ones_like(x)*.461281\n",
    "plt.plot(x,wolfram,label='wolfram')\n",
    "\n",
    "n5mid=np.ones_like(x)*midpoint_sum(f,0,.5,5)\n",
    "plt.plot(x,n5mid,label='n5mid')\n",
    "\n",
    "n5trap=np.ones_like(x)*trapezoid_sum(f,0,.5,5)\n",
    "plt.plot(x,n5trap,label='n5trap')\n",
    "\n",
    "n10mid=np.ones_like(x)*midpoint_sum(f,0,.5,10)\n",
    "plt.plot(x,n10mid,label='n10mid')\n",
    "\n",
    "n10trap=np.ones_like(x)*trapezoid_sum(f,0,.5,10)\n",
    "plt.plot(x,n10trap,label='n10trap')\n",
    "\n",
    "n100mid=np.ones_like(x)*midpoint_sum(f,0,.5,100)\n",
    "plt.plot(x,n100mid,label='n100mid')\n",
    "\n",
    "n100trap=np.ones_like(x)*trapezoid_sum(f,0,.5,100)\n",
    "plt.plot(x,n100trap,label='n100trap')\n",
    "\n",
    "plt.ylim(.4606,.4617)\n",
    "plt.legend()\n",
    "plt.show()\n",
    "print('wolfram approx:',0.461281)\n",
    "print('n=5')\n",
    "print('mid approx:',midpoint_sum(f,0,.5,5))\n",
    "print('trap approx:',trapezoid_sum(f,0,.5,5))\n",
    "print('n=10')\n",
    "print('mid approx:',midpoint_sum(f,0,.5,10))\n",
    "print('trap approx:',trapezoid_sum(f,0,.5,10))\n",
    "print('n=100')\n",
    "print('mid approx:',midpoint_sum(f,0,.5,100))\n",
    "print('trap approx:',trapezoid_sum(f,0,.5,100))"
   ]
  },
  {
   "cell_type": "markdown",
   "id": "7404c051",
   "metadata": {},
   "source": [
    "20.3.1"
   ]
  },
  {
   "cell_type": "markdown",
   "id": "af7a3605",
   "metadata": {},
   "source": [
    "$\\frac{1}{3}\\cdot\\frac{b-a}{n}\\sum_{i=1}^nf(x_{2i-2})+4f(x_{2i-1})+f(x_{2i})$"
   ]
  },
  {
   "cell_type": "markdown",
   "id": "29c16130",
   "metadata": {},
   "source": [
    "20.3.2"
   ]
  },
  {
   "cell_type": "code",
   "execution_count": 62,
   "id": "d9a9ff75",
   "metadata": {},
   "outputs": [],
   "source": [
    "def simpsons_rule_sum(f,a,b,n):\n",
    "    if n%2!=0:\n",
    "        raise Exception('please enter an even n')\n",
    "    rSum=0\n",
    "    for i in range(1,n//2+1):\n",
    "        rSum+=f((b-a)/n*(2*i-2)+a)+4*f((b-a)/n*(2*i-1)+a)+f((b-a)/n*(2*i)+a)\n",
    "    return (b-a)/(3*n)*rSum"
   ]
  },
  {
   "cell_type": "markdown",
   "id": "ec382699",
   "metadata": {},
   "source": [
    "20.3.3"
   ]
  },
  {
   "cell_type": "code",
   "execution_count": 65,
   "id": "8762f5cb",
   "metadata": {},
   "outputs": [
    {
     "name": "stdout",
     "output_type": "stream",
     "text": [
      "wolfram approx: 0.461281\n",
      "n=10\n",
      "simp approx: 0.4612811419522122\n",
      "n=100\n",
      "simp approx: 0.46128100642631364\n"
     ]
    }
   ],
   "source": [
    "print('wolfram approx:',0.461281)\n",
    "print('n=10')\n",
    "print('simp approx:',simpsons_rule_sum(f,0,.5,10))\n",
    "print('n=100')\n",
    "print('simp approx:',simpsons_rule_sum(f,0,.5,100))"
   ]
  },
  {
   "cell_type": "markdown",
   "id": "e4c856f6",
   "metadata": {},
   "source": [
    "20.4.1"
   ]
  },
  {
   "cell_type": "code",
   "execution_count": 69,
   "id": "f3fdc8f1",
   "metadata": {},
   "outputs": [
    {
     "name": "stdout",
     "output_type": "stream",
     "text": [
      "M10 error <= 0.00010416666666666667\n",
      "T10 error <= 0.00020833333333333335\n",
      "S10 error <= 3.472222222222222e-08\n"
     ]
    }
   ],
   "source": [
    "print('M10 error <=', 2*.5**3/(24*100))\n",
    "print('T10 error <=', 2*.5**3/(12*100))\n",
    "print('S10 error <=', 2*.5**5/(180*10000))"
   ]
  },
  {
   "cell_type": "markdown",
   "id": "90e996c7",
   "metadata": {},
   "source": [
    "20.4.2"
   ]
  },
  {
   "cell_type": "code",
   "execution_count": 89,
   "id": "97e9d8a8",
   "metadata": {},
   "outputs": [
    {
     "name": "stdout",
     "output_type": "stream",
     "text": [
      "ln(5): 1.6094379124341003\n",
      "\n",
      "left: 1.7820390106296689\n",
      "left error <= 2.3905620875658995\n",
      "left error = 0.17260109819556857\n",
      "\n",
      "right: 1.462039010629669\n",
      "right error <= 0.8094379124341002\n",
      "right error = 0.14739890180443127\n",
      "\n",
      "mid: 1.6032106782106783\n",
      "mid error <= 0.05333333333333334\n",
      "mid error = 0.0062272342234219735\n",
      "\n",
      "trap: 1.622039010629669\n",
      "trap error <= 0.10666666666666667\n",
      "trap error = 0.01260109819556865\n",
      "\n",
      "simp: 1.6100829940862247\n",
      "simp error <= 0.0011377777777777777\n",
      "simp error = 0.0006450816521244018\n"
     ]
    }
   ],
   "source": [
    "f=lambda x:1/x\n",
    "print('ln(5):',np.log(5))\n",
    "print()\n",
    "print('left:',left_endpoint_sum(f,1,5,10))\n",
    "print('left error <=',4-np.log(5))\n",
    "print('left error =',abs(np.log(5)-left_endpoint_sum(f,1,5,10)))\n",
    "print()\n",
    "print('right:',right_endpoint_sum(f,1,5,10))\n",
    "print('right error <=',np.log(5)-4/5)\n",
    "print('right error =',abs(np.log(5)-right_endpoint_sum(f,1,5,10)))\n",
    "print()\n",
    "print('mid:',midpoint_sum(f,1,5,10))\n",
    "print('mid error <=',2*4**3/(24*100))\n",
    "print('mid error =',abs(np.log(5)-midpoint_sum(f,1,5,10)))\n",
    "print()\n",
    "print('trap:',trapezoid_sum(f,1,5,10))\n",
    "print('trap error <=',2*4**3/(12*100))\n",
    "print('trap error =',abs(np.log(5)-trapezoid_sum(f,1,5,10)))\n",
    "print()\n",
    "print('simp:',simpsons_rule_sum(f,1,5,10))\n",
    "print('simp error <=',2*4**5/(180*10000))\n",
    "print('simp error =',abs(np.log(5)-simpsons_rule_sum(f,1,5,10)))"
   ]
  }
 ],
 "metadata": {
  "kernelspec": {
   "display_name": "Python 3 (ipykernel)",
   "language": "python",
   "name": "python3"
  },
  "language_info": {
   "codemirror_mode": {
    "name": "ipython",
    "version": 3
   },
   "file_extension": ".py",
   "mimetype": "text/x-python",
   "name": "python",
   "nbconvert_exporter": "python",
   "pygments_lexer": "ipython3",
   "version": "3.9.7"
  }
 },
 "nbformat": 4,
 "nbformat_minor": 5
}
