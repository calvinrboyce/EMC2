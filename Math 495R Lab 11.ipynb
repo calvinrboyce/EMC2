{
 "cells": [
  {
   "cell_type": "code",
   "execution_count": 23,
   "metadata": {},
   "outputs": [],
   "source": [
    "import sympy as sy\n",
    "import numpy as np\n",
    "import matplotlib.pyplot as plt"
   ]
  },
  {
   "cell_type": "markdown",
   "metadata": {},
   "source": [
    "Problem 1"
   ]
  },
  {
   "cell_type": "code",
   "execution_count": 6,
   "metadata": {},
   "outputs": [
    {
     "data": {
      "text/plain": [
       "0.8783884048461914"
      ]
     },
     "execution_count": 6,
     "metadata": {},
     "output_type": "execute_result"
    }
   ],
   "source": [
    "def f():\n",
    "    x=sy.symbols('x')\n",
    "    expr=x**5+2*x**3-x-1\n",
    "    f=sy.lambdify(x,expr)\n",
    "    \n",
    "    a=0.0\n",
    "    b=1.0\n",
    "    \n",
    "    while abs(a-b)>.000001:\n",
    "        x=(a+b)/2\n",
    "        if f(x)==0:\n",
    "            return x\n",
    "        elif f(x)>0:\n",
    "            b=x\n",
    "        else:\n",
    "            a=x\n",
    "    \n",
    "    return a\n",
    "\n",
    "f()"
   ]
  },
  {
   "cell_type": "markdown",
   "metadata": {},
   "source": [
    "Problem 2"
   ]
  },
  {
   "cell_type": "code",
   "execution_count": 16,
   "metadata": {},
   "outputs": [
    {
     "name": "stdout",
     "output_type": "stream",
     "text": [
      "a) -2.000000476837158\n",
      "b) 0\n",
      "c) 314.1432374715805\n",
      "d) 0.009999871253967285\n"
     ]
    }
   ],
   "source": [
    "def Solver(coef_list):\n",
    "    if len(coef_list)%2==1:\n",
    "        raise Exception('please enter a coefficient list with an even number of terms')\n",
    "    \n",
    "    x=sy.symbols('x')\n",
    "    expr=0\n",
    "    for i in range(len(coef_list)):\n",
    "        expr+=coef_list[i]*x**i\n",
    "    f=sy.lambdify(x,expr)\n",
    "    \n",
    "    a=0\n",
    "    b=0\n",
    "    \n",
    "    if coef_list[0]==0:\n",
    "        return 0\n",
    "    if coef_list[0]<0:\n",
    "        a=0\n",
    "        \n",
    "        if coef_list[len(coef_list)-1]<0:\n",
    "            k=0\n",
    "            while f(k)<0:\n",
    "                k-=10\n",
    "            b=k\n",
    "        if coef_list[len(coef_list)-1]>0:\n",
    "            k=0\n",
    "            while f(k)<0:\n",
    "                k+=10\n",
    "            b=k\n",
    "    if coef_list[0]>0:\n",
    "        b=0\n",
    "        \n",
    "        if coef_list[len(coef_list)-1]<0:\n",
    "            k=0\n",
    "            while f(k)>0:\n",
    "                k+=10\n",
    "            a=k\n",
    "        if coef_list[len(coef_list)-1]>0:\n",
    "            k=0\n",
    "            while f(k)>0:\n",
    "                k-=10\n",
    "            a=k\n",
    "    \n",
    "    while abs(a-b)>.000001:\n",
    "        x=(a+b)/2\n",
    "        if f(x)==0:\n",
    "            return x\n",
    "        elif f(x)>0:\n",
    "            b=x\n",
    "        else:\n",
    "            a=x\n",
    "    \n",
    "    return a\n",
    "\n",
    "print('a)',Solver([4,-4,3,-3,-1,1]))\n",
    "print('b)',Solver([0,-8000,800040,-4003.8,-19.981,0.1]))\n",
    "print('c)',Solver([-2519.48,-251915,-12594100,165746,-714.13,1]))\n",
    "print('d)',Solver([-.1,-1,1000,10000,.1,1]))"
   ]
  },
  {
   "cell_type": "markdown",
   "metadata": {},
   "source": [
    "Problem 3"
   ]
  },
  {
   "cell_type": "code",
   "execution_count": 18,
   "metadata": {},
   "outputs": [
    {
     "data": {
      "text/plain": [
       "0.8783886413492273"
      ]
     },
     "execution_count": 18,
     "metadata": {},
     "output_type": "execute_result"
    }
   ],
   "source": [
    "def f():\n",
    "    x=sy.symbols('x')\n",
    "    expr=x**5+2*x**3-x-1\n",
    "    f=sy.lambdify(x,expr)\n",
    "    df=sy.lambdify(x,sy.diff(expr))\n",
    "    \n",
    "    a=5\n",
    "    while abs(f(a))>.000001:\n",
    "        a=-1*(f(a)-df(a)*a)/df(a)\n",
    "    \n",
    "    return a\n",
    "\n",
    "f()"
   ]
  },
  {
   "cell_type": "markdown",
   "metadata": {},
   "source": [
    "Problem 4"
   ]
  },
  {
   "cell_type": "code",
   "execution_count": 20,
   "metadata": {},
   "outputs": [
    {
     "data": {
      "text/plain": [
       "0.8783886413492273"
      ]
     },
     "execution_count": 20,
     "metadata": {},
     "output_type": "execute_result"
    }
   ],
   "source": [
    "def Newton(guess,expr):\n",
    "    f=sy.lambdify(x,expr)\n",
    "    df=sy.lambdify(x,sy.diff(expr))\n",
    "    \n",
    "    while abs(f(guess))>.000001:\n",
    "        guess=-1*(f(guess)-df(guess)*guess)/df(guess)\n",
    "    \n",
    "    return guess\n",
    "\n",
    "x=sy.symbols('x')\n",
    "expr=x**5+2*x**3-x-1\n",
    "Newton(5,expr)"
   ]
  },
  {
   "cell_type": "markdown",
   "metadata": {},
   "source": [
    "Problem 5"
   ]
  },
  {
   "cell_type": "code",
   "execution_count": 22,
   "metadata": {},
   "outputs": [
    {
     "data": {
      "text/plain": [
       "-0.5008739333988766"
      ]
     },
     "execution_count": 22,
     "metadata": {},
     "output_type": "execute_result"
    }
   ],
   "source": [
    "expr=sy.sin(x**2)+x**2-x-1\n",
    "Newton(-1,expr)"
   ]
  },
  {
   "cell_type": "markdown",
   "metadata": {},
   "source": [
    "Problem 6"
   ]
  },
  {
   "cell_type": "code",
   "execution_count": 32,
   "metadata": {},
   "outputs": [
    {
     "data": {
      "image/png": "[encoded data removed]",
      "text/plain": [
       "<Figure size 216x288 with 1 Axes>"
      ]
     },
     "metadata": {
      "needs_background": "light"
     },
     "output_type": "display_data"
    }
   ],
   "source": [
    "x=np.linspace(-3,3,100)\n",
    "y=x**3+.1*x**2-x-.2\n",
    "\n",
    "plt.plot(x,y)\n",
    "plt.ylim(-5,5)\n",
    "plt.gcf().set_size_inches(3,4)\n",
    "plt.show()"
   ]
  },
  {
   "cell_type": "code",
   "execution_count": 38,
   "metadata": {},
   "outputs": [
    {
     "name": "stdout",
     "output_type": "stream",
     "text": [
      "first solution, guess=-2, -0.9384753087552652\n",
      "middle solution, guess=-.5, -0.20435823901233416\n",
      "last solution, guess=2, 1.0428336766282689\n"
     ]
    }
   ],
   "source": [
    "x=sy.symbols('x')\n",
    "expr=x**3+.1*x**2-x-.2\n",
    "\n",
    "print('first solution, guess=-2,',Newton(-2,expr))\n",
    "print('middle solution, guess=-.5,',Newton(-.5,expr))\n",
    "print('last solution, guess=2,',Newton(2,expr))"
   ]
  }
 ],
 "metadata": {
  "kernelspec": {
   "display_name": "Python 3",
   "language": "python",
   "name": "python3"
  },
  "language_info": {
   "codemirror_mode": {
    "name": "ipython",
    "version": 3
   },
   "file_extension": ".py",
   "mimetype": "text/x-python",
   "name": "python",
   "nbconvert_exporter": "python",
   "pygments_lexer": "ipython3",
   "version": "3.8.5"
  }
 },
 "nbformat": 4,
 "nbformat_minor": 4
}
