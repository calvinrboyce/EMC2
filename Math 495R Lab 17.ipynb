{
 "cells": [
  {
   "cell_type": "code",
   "execution_count": 29,
   "metadata": {},
   "outputs": [],
   "source": [
    "import matplotlib.pyplot as plt\n",
    "import math"
   ]
  },
  {
   "cell_type": "markdown",
   "metadata": {},
   "source": [
    "Problem 1+3"
   ]
  },
  {
   "cell_type": "code",
   "execution_count": 67,
   "metadata": {},
   "outputs": [
    {
     "name": "stdout",
     "output_type": "stream",
     "text": [
      "target=0, current=0.014750169483455202\n"
     ]
    }
   ],
   "source": [
    "an=[((-1)**n)/(n+1) for n in range(100)]\n",
    "\n",
    "def rearrange_sequence(an,target):\n",
    "    current=0\n",
    "    pos_index=0\n",
    "    neg_index=1\n",
    "    indices=[]\n",
    "    while pos_index<len(an) and neg_index<len(an):\n",
    "        if current<target:\n",
    "            current+=an[pos_index]\n",
    "            indices.append(an[pos_index])\n",
    "            pos_index+=2\n",
    "        else:\n",
    "            current+=an[neg_index]\n",
    "            indices.append(an[neg_index])\n",
    "            neg_index+=2\n",
    "    return [current,indices]\n",
    "\n",
    "result=rearrange_sequence(an,0)\n",
    "current=result[0]\n",
    "indices=result[1]\n",
    "print('target=0, current='+str(current))"
   ]
  },
  {
   "cell_type": "markdown",
   "metadata": {},
   "source": [
    "Problem 2"
   ]
  },
  {
   "cell_type": "code",
   "execution_count": 68,
   "metadata": {},
   "outputs": [
    {
     "data": {
      "image/png": "[encoded data removed]",
      "text/plain": [
       "<Figure size 432x288 with 1 Axes>"
      ]
     },
     "metadata": {
      "needs_background": "light"
     },
     "output_type": "display_data"
    }
   ],
   "source": [
    "x1=list(range(100))\n",
    "psum1=0\n",
    "y1=[]\n",
    "for i in an:\n",
    "    psum1+=i\n",
    "    y1.append(psum1)\n",
    "\n",
    "x2=list(range(len(indices)))\n",
    "psum2=0\n",
    "y2=[]\n",
    "for i in indices:\n",
    "    psum2+=i\n",
    "    y2.append(psum2)\n",
    "\n",
    "plt.plot(x1,y1,'.')\n",
    "plt.plot(x2,y2,'.')\n",
    "plt.show()"
   ]
  },
  {
   "cell_type": "markdown",
   "metadata": {},
   "source": [
    "Problem 4"
   ]
  },
  {
   "cell_type": "code",
   "execution_count": 75,
   "metadata": {},
   "outputs": [
    {
     "name": "stdout",
     "output_type": "stream",
     "text": [
      "First 5 terms summing to 0: [-0.3662040962227033, 0.34657359027997264, 0.34657359027997264, -0.32188758248682003, -0.277987164150759]\n",
      "End result: -0.0032720116174634953\n",
      "\n",
      "First 5 terms summing to 5: [0.34657359027997264, 0.34657359027997264, 0.2986265782046758, 0.25993019270997947, 0.23025850929940458]\n",
      "End result: 5.002186309992842\n",
      "\n",
      "First 5 terms summing to -5: [-0.3662040962227033, -0.32188758248682003, -0.277987164150759, -0.24413606414846883, -0.21799047934530644]\n",
      "End result: -4.884706449596616\n",
      "\n",
      "First 5 terms summing to -0.159869: [-0.3662040962227033, 0.34657359027997264, -0.32188758248682003, 0.34657359027997264, -0.277987164150759]\n",
      "End result: -0.20163152333373568\n"
     ]
    }
   ],
   "source": [
    "bn=[((-1)**n*math.log(n))/n for n in range(2,102)]\n",
    "result0=rearrange_sequence(bn,0)\n",
    "print('First 5 terms summing to 0:',result0[1][:5])\n",
    "print('End result:',result0[0])\n",
    "print()\n",
    "result5=rearrange_sequence(bn,5)\n",
    "print('First 5 terms summing to 5:',result5[1][:5])\n",
    "print('End result:',result5[0])\n",
    "print()\n",
    "result_neg5=rearrange_sequence(bn,-5)\n",
    "print('First 5 terms summing to -5:',result_neg5[1][:5])\n",
    "print('End result:',result_neg5[0])\n",
    "print()\n",
    "result_dec=rearrange_sequence(bn,-0.159869)\n",
    "print('First 5 terms summing to -0.159869:',result_dec[1][:5])\n",
    "print('End result:',result_dec[0])"
   ]
  },
  {
   "cell_type": "markdown",
   "metadata": {},
   "source": [
    "Problem 5"
   ]
  },
  {
   "cell_type": "code",
   "execution_count": 73,
   "metadata": {},
   "outputs": [
    {
     "data": {
      "image/png": "[encoded data removed]",
      "text/plain": [
       "<Figure size 432x288 with 1 Axes>"
      ]
     },
     "metadata": {
      "needs_background": "light"
     },
     "output_type": "display_data"
    }
   ],
   "source": [
    "x=list(range(2,102))\n",
    "psum=0\n",
    "y=[]\n",
    "for i in bn:\n",
    "    psum+=i\n",
    "    y.append(psum)\n",
    "\n",
    "x0=[i+2 for i in range(len(result0[1]))]\n",
    "psum0=0\n",
    "y0=[]\n",
    "for i in result0[1]:\n",
    "    psum0+=i\n",
    "    y0.append(psum0)\n",
    "\n",
    "x5=[i+2 for i in range(len(result5[1]))]\n",
    "psum5=0\n",
    "y5=[]\n",
    "for i in result5[1]:\n",
    "    psum5+=i\n",
    "    y5.append(psum5)\n",
    "\n",
    "plt.plot(x,y,'.')\n",
    "plt.plot(x0,y0,'.')\n",
    "plt.plot(x5,y5,'.')\n",
    "plt.show()"
   ]
  },
  {
   "cell_type": "markdown",
   "metadata": {},
   "source": [
    "Problem 6"
   ]
  },
  {
   "cell_type": "code",
   "execution_count": 85,
   "metadata": {},
   "outputs": [
    {
     "name": "stdout",
     "output_type": "stream",
     "text": [
      "First 5 terms summing to 0: [-0.3662040962227033, 0.34657359027997264, 0.34657359027997264, -0.32188758248682003, -0.277987164150759]\n",
      "End result: -0.005533024457978044\n",
      "\n",
      "First 5 terms summing to 5: [0.34657359027997264, 0.34657359027997264, 0.2986265782046758, 0.25993019270997947, 0.23025850929940458]\n",
      "End result: 4.996017929127042\n",
      "\n",
      "First 5 terms summing to -5: [-0.3662040962227033, -0.32188758248682003, -0.277987164150759, -0.24413606414846883, -0.21799047934530644]\n",
      "End result: -4.991607221288886\n",
      "\n",
      "First 5 terms summing to -0.159869: [-0.3662040962227033, 0.34657359027997264, -0.32188758248682003, 0.34657359027997264, -0.277987164150759]\n",
      "End result: -0.15933159211656325\n"
     ]
    }
   ],
   "source": [
    "bn=[((-1)**n*math.log(n))/n for n in range(2,1002)]\n",
    "result0=rearrange_sequence(bn,0)\n",
    "print('First 5 terms summing to 0:',result0[1][:5])\n",
    "print('End result:',result0[0])\n",
    "print()\n",
    "result5=rearrange_sequence(bn,5)\n",
    "print('First 5 terms summing to 5:',result5[1][:5])\n",
    "print('End result:',result5[0])\n",
    "print()\n",
    "result_neg5=rearrange_sequence(bn,-5)\n",
    "print('First 5 terms summing to -5:',result_neg5[1][:5])\n",
    "print('End result:',result_neg5[0])\n",
    "print()\n",
    "result_dec=rearrange_sequence(bn,-0.159869)\n",
    "print('First 5 terms summing to -0.159869:',result_dec[1][:5])\n",
    "print('End result:',result_dec[0])"
   ]
  },
  {
   "cell_type": "markdown",
   "metadata": {},
   "source": [
    "Problem 7"
   ]
  },
  {
   "cell_type": "code",
   "execution_count": 83,
   "metadata": {},
   "outputs": [
    {
     "name": "stdout",
     "output_type": "stream",
     "text": [
      "Sum to 100 with 100000000 terms: 84.87389638890531\n"
     ]
    }
   ],
   "source": [
    "bn=[((-1)**n*math.log(n))/n for n in range(2,100000002)]\n",
    "print('Sum to 100 with 100000000 terms:',rearrange_sequence(bn,100)[0])"
   ]
  }
 ],
 "metadata": {
  "kernelspec": {
   "display_name": "Python 3",
   "language": "python",
   "name": "python3"
  },
  "language_info": {
   "codemirror_mode": {
    "name": "ipython",
    "version": 3
   },
   "file_extension": ".py",
   "mimetype": "text/x-python",
   "name": "python",
   "nbconvert_exporter": "python",
   "pygments_lexer": "ipython3",
   "version": "3.8.5"
  }
 },
 "nbformat": 4,
 "nbformat_minor": 4
}
